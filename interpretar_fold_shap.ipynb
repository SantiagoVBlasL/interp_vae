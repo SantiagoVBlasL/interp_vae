{
 "cells": [
  {
   "cell_type": "code",
   "execution_count": 1,
   "id": "b1591af5",
   "metadata": {},
   "outputs": [
    {
     "name": "stdout",
     "output_type": "stream",
     "text": [
      "[INFO] [SHAP] fold=1 clf=xgb\n",
      "[INFO] [SHAP] X_raw shape=(37, 515) (latentes + 3 metadatos)\n",
      "[INFO] [SHAP] Pack guardado: resultados_22/fold_1/interpretability_shap/shap_pack_xgb.joblib\n"
     ]
    }
   ],
   "source": [
    "!python interpretar_fold.py shap \\\n",
    "  --run_dir ./resultados_22 --fold 1 --clf xgb \\\n",
    "  --global_tensor_path /home/diego/Escritorio/limpio/AAL3_dynamicROIs_fmri_tensor_NeuroEnhanced_v6.5.17_AAL3_131ROIs_OMST_GCE_Signed_GrangerLag1_ChNorm_ROIreorderedYeo17_ParallelTuned/GLOBAL_TENSOR_from_AAL3_dynamicROIs_fmri_tensor_NeuroEnhanced_v6.5.17_AAL3_131ROIs_OMST_GCE_Signed_GrangerLag1_ChNorm_ROIreorderedYeo17_ParallelTuned.npz \\\n",
    "  --metadata_path /home/diego/Escritorio/limpio/SubjectsData_AAL3_procesado2.csv \\\n",
    "  --channels_to_use 1 2 5 \\\n",
    "  --latent_dim 512 --latent_features_type mu \\\n",
    "  --metadata_features Age Sex Manufacturer \\\n",
    "  --num_conv_layers_encoder 4 --decoder_type convtranspose \\\n",
    "  --dropout_rate_vae 0.2 --use_layernorm_vae_fc \\\n",
    "  --intermediate_fc_dim_vae half --vae_final_activation linear \\\n",
    "  --gn_num_groups 32"
   ]
  }
 ],
 "metadata": {
  "kernelspec": {
   "display_name": "serentipia_gpu",
   "language": "python",
   "name": "python3"
  },
  "language_info": {
   "codemirror_mode": {
    "name": "ipython",
    "version": 3
   },
   "file_extension": ".py",
   "mimetype": "text/x-python",
   "name": "python",
   "nbconvert_exporter": "python",
   "pygments_lexer": "ipython3",
   "version": "3.10.18"
  }
 },
 "nbformat": 4,
 "nbformat_minor": 5
}
