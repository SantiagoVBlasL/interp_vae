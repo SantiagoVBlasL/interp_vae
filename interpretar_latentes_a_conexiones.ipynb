{
 "cells": [
  {
   "cell_type": "code",
   "execution_count": 1,
   "id": "9aee7283",
   "metadata": {},
   "outputs": [
    {
     "name": "stdout",
     "output_type": "stream",
     "text": [
      "[INFO] --- Iniciando Análisis de Saliencia VAE para Fold 1 ---\n",
      "[INFO] Cargando artefactos de SHAP y VAE...\n",
      "[INFO] Generando mapa de saliencia usando las top 50 características latentes.\n",
      "[INFO] Top 10 características latentes más importantes:\n",
      "        feature  importance  latent_idx    weight\n",
      "455  latent_455    0.005351         455  0.023705\n",
      "85    latent_85    0.004920          85  0.021798\n",
      "258  latent_258    0.003715         258  0.016458\n",
      "99    latent_99    0.003564          99  0.015790\n",
      "494  latent_494    0.003557         494  0.015757\n",
      "437  latent_437    0.003344         437  0.014816\n",
      "22    latent_22    0.003213          22  0.014235\n",
      "422  latent_422    0.003117         422  0.013807\n",
      "302  latent_302    0.002998         302  0.013281\n",
      "326  latent_326    0.002966         326  0.013142\n",
      "Propagando features: 100%|████████████████████| 50/50 [00:00<00:00, 1253.16it/s]\n",
      "[INFO] Ranking de features latentes guardado en: resultados_13/fold_1/interpretability_final/ranking_features_latentes.csv\n",
      "[INFO] Generando ranking de conexiones más importantes...\n",
      "[INFO] Ranking de conexiones importantes guardado en: resultados_13/fold_1/interpretability_final/ranking_conexiones_importantes.csv\n",
      "[INFO] Top 20 conexiones más importantes según el modelo:\n",
      "      ROI_i_idx  ROI_j_idx      ROI_i_name            ROI_j_name  Saliency_Score\n",
      "6242         63         69  Parietal_Inf_R           Precuneus_R        0.009434\n",
      "6106         61         68  Parietal_Sup_R           Precuneus_L        0.008869\n",
      "5896         58         68   Postcentral_L           Precuneus_L        0.006218\n",
      "5967         59         68   Postcentral_R           Precuneus_L        0.005863\n",
      "6185         62         79  Parietal_Inf_L              Heschl_R        0.005832\n",
      "5968         59         69   Postcentral_R           Precuneus_R        0.005615\n",
      "6107         61         69  Parietal_Sup_R           Precuneus_R        0.005548\n",
      "4661         42        105      Amygdala_L         Cerebelum_9_R        0.005486\n",
      "4945         46         47        Cuneus_L              Cuneus_R        0.005399\n",
      "6438         66         70       Angular_L  Paracentral_Lobule_L        0.005333\n",
      "3654         31        121        OFClat_R            Thal_PuM_L        0.004966\n",
      "4979         46         81        Cuneus_L        Temporal_Sup_R        0.004953\n",
      "3770         33         42        Insula_R            Amygdala_L        0.004945\n",
      "6241         63         68  Parietal_Inf_R           Precuneus_L        0.004933\n",
      "4659         42        103      Amygdala_L         Cerebelum_8_R        0.004888\n",
      "6441         66         73       Angular_L             Caudate_R        0.004855\n",
      "4660         42        104      Amygdala_L         Cerebelum_9_L        0.004808\n",
      "4963         46         65        Cuneus_L       SupraMarginal_R        0.004803\n",
      "5003         46        105        Cuneus_L         Cerebelum_9_R        0.004792\n",
      "3638         31        105        OFClat_R         Cerebelum_9_R        0.004750\n",
      "[INFO] Análisis de interpretabilidad completado. Resultados en: resultados_13/fold_1/interpretability_final\n"
     ]
    }
   ],
   "source": [
    "!python interpretar_latentes_a_conexiones.py \\\n",
    "    --run_dir ./resultados_13 \\\n",
    "    --classifier_type svm \\\n",
    "    --fold_to_analyze 1 \\\n",
    "    --roi_order_path /home/diego/Escritorio/limpio/roi_order_131.npy \\\n",
    "    --channels_to_use 1 2 5 \\\n",
    "    --latent_dim 512 \\\n",
    "    --metadata_features Age Sex \\\n",
    "    --num_conv_layers_encoder 4 \\\n",
    "    --dropout_rate_vae 0.2 \\\n",
    "    --intermediate_fc_dim_vae quarter \\\n",
    "    --vae_final_activation tanh \\\n",
    "    --decoder_type convtranspose"
   ]
  }
 ],
 "metadata": {
  "kernelspec": {
   "display_name": "serentipia_gpu",
   "language": "python",
   "name": "python3"
  },
  "language_info": {
   "codemirror_mode": {
    "name": "ipython",
    "version": 3
   },
   "file_extension": ".py",
   "mimetype": "text/x-python",
   "name": "python",
   "nbconvert_exporter": "python",
   "pygments_lexer": "ipython3",
   "version": "3.10.18"
  }
 },
 "nbformat": 4,
 "nbformat_minor": 5
}
