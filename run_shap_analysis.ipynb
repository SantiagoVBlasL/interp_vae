{
 "cells": [
  {
   "cell_type": "code",
   "execution_count": 1,
   "id": "b439c4e6",
   "metadata": {},
   "outputs": [
    {
     "name": "stdout",
     "output_type": "stream",
     "text": [
      "[INFO] --- Iniciando Análisis SHAP para Fold 1, Clasificador: svm ---\n",
      "[INFO] Directorio de resultados del fold: resultados_13/fold_1\n",
      "[INFO] Cargando artefactos del entrenamiento...\n",
      "[INFO] Reconstruyendo el conjunto de datos de test...\n",
      "[INFO] Modelo VAE cargado y preparado para inferencia.\n",
      "[INFO] Generando características latentes para el conjunto de test...\n",
      "[INFO] Datos de test reconstruidos. Forma final: (37, 514)\n",
      "[INFO] Creando el explicador de SHAP...\n",
      "[WARNING] No se pudo determinar el índice de la clase positiva (AD=1). Asumiendo que es 1.\n",
      "[WARNING] Usando KernelExplainer de SHAP. Puede ser lento.\n",
      "100%|███████████████████████████████████████████| 37/37 [00:07<00:00,  5.18it/s]\n",
      "[INFO] shap_values_all_classes.shape = (37, 514, 2)\n",
      "[INFO] SHAP final -> shape (37, 514)\n",
      "[INFO] Artefactos SHAP (valores, datos) guardados.\n",
      "[INFO] Análisis SHAP completado. Resultados guardados en: resultados_13/fold_1/interpretability_shap\n"
     ]
    }
   ],
   "source": [
    "!python run_shap_analysis.py \\\n",
    "    --run_dir ./resultados_13 \\\n",
    "    --classifier_type svm \\\n",
    "    --fold_to_analyze 1 \\\n",
    "    --global_tensor_path /home/diego/Escritorio/limpio/AAL3_dynamicROIs_fmri_tensor_NeuroEnhanced_v6.5.17_AAL3_131ROIs_OMST_GCE_Signed_GrangerLag1_ChNorm_ROIreorderedYeo17_ParallelTuned/GLOBAL_TENSOR_from_AAL3_dynamicROIs_fmri_tensor_NeuroEnhanced_v6.5.17_AAL3_131ROIs_OMST_GCE_Signed_GrangerLag1_ChNorm_ROIreorderedYeo17_ParallelTuned.npz \\\n",
    "    --metadata_path /home/diego/Escritorio/limpio/SubjectsData_AAL3_procesado.csv \\\n",
    "    --channels_to_use 1 2 5 \\\n",
    "    --latent_dim 512 \\\n",
    "    --metadata_features Age Sex \\\n",
    "    --latent_features_type mu \\\n",
    "    --num_conv_layers_encoder 4 \\\n",
    "    --dropout_rate_vae 0.2 \\\n",
    "    --intermediate_fc_dim_vae quarter \\\n",
    "    --vae_final_activation tanh \\\n",
    "    --decoder_type convtranspose"
   ]
  }
 ],
 "metadata": {
  "kernelspec": {
   "display_name": "serentipia_gpu",
   "language": "python",
   "name": "python3"
  },
  "language_info": {
   "codemirror_mode": {
    "name": "ipython",
    "version": 3
   },
   "file_extension": ".py",
   "mimetype": "text/x-python",
   "name": "python",
   "nbconvert_exporter": "python",
   "pygments_lexer": "ipython3",
   "version": "3.10.18"
  }
 },
 "nbformat": 4,
 "nbformat_minor": 5
}
