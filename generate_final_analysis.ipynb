{
 "cells": [
  {
   "cell_type": "code",
   "execution_count": 1,
   "id": "cf0232b8",
   "metadata": {},
   "outputs": [
    {
     "name": "stdout",
     "output_type": "stream",
     "text": [
      "\n",
      "--- RANKING GLOBAL Y ROBUSTO DE ROIs (PROMEDIO DE 5 FOLDS) ---\n",
      "Tabla de resultados guardada en: global_robust_roi_ranking_final.csv\n",
      "                ROI_Name                Yeo17_Network  Mean_Saliency\n",
      "0               Heschl_R                Somatomotor_B       0.388218\n",
      "1              Putamen_R  Salience_VentralAttention_A       0.361617\n",
      "2               Vermis_7       Background/NonCortical       0.349256\n",
      "3               Vermis_6            Visual_Peripheral       0.321970\n",
      "4             Amygdala_L            Limbic_A_TempPole       0.306289\n",
      "5               OFClat_R    DefaultMode_VentralMedial       0.305591\n",
      "6              Lingual_R               Visual_Central       0.269593\n",
      "7          Cerebelum_9_R       Background/NonCortical       0.254244\n",
      "8        Occipital_Mid_R            Visual_Peripheral       0.253974\n",
      "9        Rolandic_Oper_R                Somatomotor_B       0.252842\n",
      "10              Cuneus_R               Visual_Central       0.248837\n",
      "11       Occipital_Inf_L            Visual_Peripheral       0.244990\n",
      "12        Parietal_Sup_R            DorsalAttention_A       0.237438\n",
      "13       Cingulate_Mid_L  Salience_VentralAttention_A       0.236527\n",
      "14            Pallidum_R       Background/NonCortical       0.231383\n",
      "15   Temporal_Pole_Sup_L            Limbic_A_TempPole       0.231141\n",
      "16        Temporal_Inf_R            Limbic_A_TempPole       0.229247\n",
      "17     Frontal_Med_Orb_R     DefaultMode_DorsalMedial       0.225854\n",
      "18  Paracentral_Lobule_R                Somatomotor_A       0.225407\n",
      "19              Rectus_R                 Limbic_B_OFC       0.225194\n",
      "20         Postcentral_R                Somatomotor_A       0.223418\n",
      "21       Cingulate_Mid_R  Salience_VentralAttention_A       0.221365\n",
      "22            Fusiform_R            Visual_Peripheral       0.219630\n",
      "23           Olfactory_R                 Limbic_B_OFC       0.219232\n",
      "24       Cerebelum_4_5_R               Visual_Central       0.218583\n",
      "\n",
      "Gráfico final con barras de error guardado en: final_roi_ranking_with_errorbars.png\n",
      "Figure(1200x1000)\n"
     ]
    }
   ],
   "source": [
    "!python generate_final_analysis.py \\\n",
    "    --root_dir /home/diego/Escritorio/limpio/resultados_12_inter \\\n",
    "    --roi_map /home/diego/Escritorio/limpio/aal3_131_to_yeo17_mapping.csv \\\n",
    "    --output_dir /home/diego/Escritorio/limpio/resultados_12_inter"
   ]
  }
 ],
 "metadata": {
  "kernelspec": {
   "display_name": "rapids118",
   "language": "python",
   "name": "python3"
  },
  "language_info": {
   "codemirror_mode": {
    "name": "ipython",
    "version": 3
   },
   "file_extension": ".py",
   "mimetype": "text/x-python",
   "name": "python",
   "nbconvert_exporter": "python",
   "pygments_lexer": "ipython3",
   "version": "3.10.18"
  }
 },
 "nbformat": 4,
 "nbformat_minor": 5
}
