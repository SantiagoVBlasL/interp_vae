{
 "cells": [
  {
   "cell_type": "code",
   "execution_count": 1,
   "id": "b1591af5",
   "metadata": {},
   "outputs": [
    {
     "name": "stdout",
     "output_type": "stream",
     "text": [
      "[INFO] [SALIENCY] fold=1 clf=xgb  (pack cargado: shap_pack_xgb.joblib)\n",
      "[INFO] [SALIENCY] 50 latentes ponderadas. Ejemplo:\n",
      " latent_idx   weight  importance            feature\n",
      "        128 0.148256    0.328950 latent__latent_128\n",
      "         95 0.089057    0.197599  latent__latent_95\n",
      "         31 0.064723    0.143607  latent__latent_31\n",
      "        488 0.061329    0.136077 latent__latent_488\n",
      "        353 0.051775    0.114877 latent__latent_353\n",
      "[INFO] [SALIENCY] Sujetos AD=19  CN=18\n",
      "[INFO] [SALIENCY] Ranking conexiones guardado: resultados_22/fold_1/interpretability_xgb/ranking_conexiones_top50.csv\n",
      "[INFO] Top 20 conexiones:\n",
      " Rank           ROI_i_name           ROI_j_name  Saliency_Score\n",
      "    1  Temporal_Pole_Sup_L       Temporal_Inf_R        0.000155\n",
      "    2    Supp_Motor_Area_R             OFClat_L        0.000152\n",
      "    3    Frontal_Med_Orb_R        Cerebelum_9_R        0.000152\n",
      "    4 Frontal_Sup_Medial_L      Occipital_Sup_R        0.000147\n",
      "    5    Frontal_Med_Orb_R      Cerebellum_10_R        0.000146\n",
      "    6        Postcentral_R       Cerebelum_7b_R        0.000141\n",
      "    7          Olfactory_R       Temporal_Mid_R        0.000137\n",
      "    8           Fusiform_R       Parietal_Inf_R        0.000136\n",
      "    9 Frontal_Sup_Medial_R             OFCmed_R        0.000135\n",
      "   10          Calcarine_R        Cerebelum_3_L        0.000135\n",
      "   11       Cerebelum_10_L           Vermis_4_5        0.000135\n",
      "   12        Hippocampus_R        Postcentral_R        0.000134\n",
      "   13          Precuneus_L Paracentral_Lobule_L       -0.000133\n",
      "   14           Pallidum_L       Cerebelum_7b_R       -0.000132\n",
      "   15             Heschl_R    Cerebelum_Crus1_L        0.000130\n",
      "   16 Frontal_Sup_Medial_R             Rectus_R        0.000130\n",
      "   17             OFCmed_R           Pallidum_R        0.000130\n",
      "   18             OFCmed_R       Cerebelum_10_L        0.000129\n",
      "   19    Frontal_Med_Orb_R       Cerebelum_7b_R        0.000129\n",
      "   20            Angular_L            Angular_R       -0.000129\n",
      "[INFO] [SALIENCY] Completo. Resultados en resultados_22/fold_1/interpretability_xgb\n"
     ]
    }
   ],
   "source": [
    "!python interpretar_fold.py saliency \\\n",
    "  --run_dir ./resultados_22 --fold 1 --clf xgb \\\n",
    "  --global_tensor_path /home/diego/Escritorio/limpio/AAL3_dynamicROIs_fmri_tensor_NeuroEnhanced_v6.5.17_AAL3_131ROIs_OMST_GCE_Signed_GrangerLag1_ChNorm_ROIreorderedYeo17_ParallelTuned/GLOBAL_TENSOR_from_AAL3_dynamicROIs_fmri_tensor_NeuroEnhanced_v6.5.17_AAL3_131ROIs_OMST_GCE_Signed_GrangerLag1_ChNorm_ROIreorderedYeo17_ParallelTuned.npz \\\n",
    "  --metadata_path /home/diego/Escritorio/limpio/SubjectsData_AAL3_procesado2.csv \\\n",
    "  --roi_order_path ./resultados_22/roi_order_131.joblib \\\n",
    "  --channels_to_use 1 2 5 --latent_dim 512 \\\n",
    "  --num_conv_layers_encoder 4 --decoder_type convtranspose \\\n",
    "  --dropout_rate_vae 0.2 --use_layernorm_vae_fc \\\n",
    "  --intermediate_fc_dim_vae half --vae_final_activation linear \\\n",
    "  --gn_num_groups 32 --top_k 50 --shap_weight_mode ad_vs_cn_diff"
   ]
  }
 ],
 "metadata": {
  "kernelspec": {
   "display_name": "serentipia_gpu",
   "language": "python",
   "name": "python3"
  },
  "language_info": {
   "codemirror_mode": {
    "name": "ipython",
    "version": 3
   },
   "file_extension": ".py",
   "mimetype": "text/x-python",
   "name": "python",
   "nbconvert_exporter": "python",
   "pygments_lexer": "ipython3",
   "version": "3.10.18"
  }
 },
 "nbformat": 4,
 "nbformat_minor": 5
}
