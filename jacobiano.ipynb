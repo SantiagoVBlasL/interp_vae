{
 "cells": [
  {
   "cell_type": "code",
   "execution_count": 1,
   "id": "cf0232b8",
   "metadata": {},
   "outputs": [
    {
     "name": "stdout",
     "output_type": "stream",
     "text": [
      "[INFO] Usando dispositivo: cuda\n",
      "[INFO] Cargando VAE …\n",
      "[WARNING]   vae_model_meta_params.joblib no existe. Usando parámetros por defecto coherentes con el entrenamiento …\n",
      "[INFO]   Checkpoint cargado ✔️\n",
      "[INFO] Cargando pipeline de clasificador …\n",
      "[INFO]   Dimensión latente detectada: 512\n",
      "[INFO] Cargando parámetros de normalización VAE …\n",
      "[INFO] Cargando tensor global …\n",
      "[INFO] Cargando metadatos …\n",
      "[INFO] Sujetos seleccionados: 40 (AD=20, CN=20)\n",
      "[INFO] Computando gradientes …\n",
      "subjects: 100%|████████████████████████████████| 40/40 [00:00<00:00, 108.31it/s]\n",
      "[INFO] Heat‑map guardado en resultados_12_inter/fold_1/interpretabilidad/heatmap_Jw_mean.png\n",
      "[INFO] Ranking ROIs guardado en resultados_12_inter/fold_1/interpretabilidad/roi_ranking_Jw_fold1.csv\n",
      "\n",
      "TOP‑15 ROIs por |Jᵀ·w|:\n",
      "AAL3_Name             Yeo17_Network    Score\n",
      "      T3R         Limbic_A_TempPole 0.306712\n",
      "     T2AR         Limbic_A_TempPole 0.303569\n",
      "     COBR              Limbic_B_OFC 0.282634\n",
      "     COBL              Limbic_B_OFC 0.268971\n",
      "      GAR  DefaultMode_DorsalMedial 0.268114\n",
      "  ACCpreL  DefaultMode_DorsalMedial 0.265972\n",
      "      FAR             Somatomotor_A 0.263952\n",
      "     FMOR  DefaultMode_DorsalMedial 0.260977\n",
      "      GRR              Limbic_B_OFC 0.254622\n",
      "    F2_2R                 Control_B 0.251737\n",
      "     T1AR         Limbic_A_TempPole 0.251735\n",
      "      FML DefaultMode_VentralMedial 0.250044\n",
      "     T2AL         Limbic_A_TempPole 0.248663\n",
      "    CER3R          DefaultMode_Core 0.248330\n",
      "  OFCLATR DefaultMode_VentralMedial 0.248103\n",
      "[INFO] ✔️  Análisis finalizado.\n",
      "[INFO] Tiempo total: 2.6s\n"
     ]
    }
   ],
   "source": [
    "!python jacobiano.py \\\n",
    "        --tensor /home/diego/Escritorio/limpio/AAL3_dynamicROIs_fmri_tensor_NeuroEnhanced_v6.5.17_AAL3_131ROIs_OMST_GCE_Signed_GrangerLag1_ChNorm_ROIreorderedYeo17_ParallelTuned/GLOBAL_TENSOR_from_AAL3_dynamicROIs_fmri_tensor_NeuroEnhanced_v6.5.17_AAL3_131ROIs_OMST_GCE_Signed_GrangerLag1_ChNorm_ROIreorderedYeo17_ParallelTuned.npz \\\n",
    "        --metadata /home/diego/Escritorio/limpio/SubjectsData_AAL3_procesado.csv \\\n",
    "        --fold-dir resultados_12_inter/fold_1 \\\n",
    "        --out-dir resultados_12_inter/fold_1/interpretabilidad \\\n",
    "        --channels 1 2 5 \\\n",
    "        --n-subjects 40"
   ]
  }
 ],
 "metadata": {
  "kernelspec": {
   "display_name": "rapids118",
   "language": "python",
   "name": "python3"
  },
  "language_info": {
   "codemirror_mode": {
    "name": "ipython",
    "version": 3
   },
   "file_extension": ".py",
   "mimetype": "text/x-python",
   "name": "python",
   "nbconvert_exporter": "python",
   "pygments_lexer": "ipython3",
   "version": "3.10.18"
  }
 },
 "nbformat": 4,
 "nbformat_minor": 5
}
