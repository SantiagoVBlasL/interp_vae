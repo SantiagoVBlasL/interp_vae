{
  "nbformat": 4,
  "nbformat_minor": 0,
  "metadata": {
    "kernelspec": {
      "display_name": "Python 3",
      "language": "python",
      "name": "python3"
    },
    "language_info": {
      "codemirror_mode": {
        "name": "ipython",
        "version": 3
      },
      "file_extension": ".py",
      "mimetype": "text/x-python",
      "name": "python",
      "nbconvert_exporter": "python",
      "pygments_lexer": "ipython3",
      "version": "3.8.3"
    },
    "colab": {
      "name": "ripserplusplus-Expected-persistence-diagrams.ipynb",
      "provenance": [],
      "toc_visible": true
    },
    "accelerator": "GPU"
  },
  "cells": [
    {
      "cell_type": "markdown",
      "metadata": {
        "id": "GgI0zVO9ORvZ"
      },
      "source": [
        "# Expected Persistence Diagram Estimation with Ripser++\n",
        "---\n",
        "\n"
      ]
    },
    {
      "cell_type": "markdown",
      "metadata": {
        "id": "sYgWj2CUORvq"
      },
      "source": [
        "Simon Zhang"
      ]
    },
    {
      "cell_type": "markdown",
      "metadata": {
        "id": "9I9gBeePh8PH"
      },
      "source": [
        "Due to the ending of Moore's law GPUs offer the performance growth of hardware in the future. GPUs have thus become common place on everyday computers.\n",
        "\n",
        "*Even better, with the cloud and Google Colab we can run high performance GPUs and in particular Ripser++ on any device on our browser and in particular on our cellphones!*\n",
        "\n",
        "In this tutorial we demostrate the easy to use and high performance of Ripser++ for a small statistical problem.\n",
        "\n"
      ]
    },
    {
      "cell_type": "markdown",
      "metadata": {
        "id": "GMcQvzRJBn6X"
      },
      "source": [
        "##Introduction to Ripser++:\n",
        "\n",
        "Ripser++ is a GPU based software for computing Vietoris-Rips persistence barcodes. In its computation, it parallelizes two components of the matrix reduction algorithm for persistent cohomology computation.\n",
        "\n",
        "1. It builds the simplex-wise flag filtration for each dimension massively in parallel, utilizing the clearing lemma and the combinatorial index to represent simplices.\n",
        "\n",
        "  a. a simplex-wise flag filtration is determined by the edges formed by Vietoris-Rips complexes at different scales on an input point cloud\n",
        "\n",
        "  b. the clearing lemma eliminates simplices from the filtration since they are zero columns in the matrix for computation\n",
        "\n",
        "  c. the combinatorial index represents simplices by a single integer\n",
        "\n",
        "2. It finds apparent pairs massively in parallel on GPU for matrix reduction on a submatrix.\n",
        "\n",
        "  a. apparent pairs are persistence pairs that are as close as possibe in the simplex-wise flag filtration\n",
        "\n",
        "Along with these two properties, Ripser++ also implements\n",
        "\n",
        "3. An efficient two-layered hashmap for storing persistence pairs\n",
        "\n",
        "4. A GPU-CPU hybrid\n",
        "\n",
        "\n",
        "For more details on Ripser++ see the paper located here: https://arxiv.org/pdf/2003.07989.pdf\n",
        "\n"
      ]
    },
    {
      "cell_type": "markdown",
      "metadata": {
        "id": "ltfCWnPYrx1_"
      },
      "source": [
        "Recall that a persistence diagram and a persistence barcode are equivalent outputs of ripser++. In the following experiment, we attempt to compute a limiting object for sample averages of persistence diagrams of a fixed number of points from a random distribution."
      ]
    },
    {
      "cell_type": "markdown",
      "metadata": {
        "id": "bNktDB-MORvr"
      },
      "source": [
        "## Experiment to Estimate the Expected Persistence Diagram"
      ]
    },
    {
      "cell_type": "markdown",
      "metadata": {
        "id": "bN_Yd4uiORvr"
      },
      "source": [
        "We compute an estimator of the expected persistence diagram based on the tutorial located here: https://github.com/GUDHI/TDA-tutorial/blob/054b30000a26d6f7e11966bf41c888d954963137/Tuto-GUDHI-Expected-persistence-diagrams.ipynb\n",
        "\n",
        "This tutorial illustrates the notion of \"Expected Persistence Diagram\" defined by Chazal and Divol here: https://arxiv.org/pdf/1802.10457.pdf. The expected persistence diagram represents the topology of a *random* source by a *deterministic* measure."
      ]
    },
    {
      "cell_type": "markdown",
      "metadata": {
        "id": "u3ksb-rMORvs"
      },
      "source": [
        "A persistence diagram can be computed as a topological descriptor of some input data $X$. In our case we will consider a point cloud as input with $\\mathrm{Dgm}(X)$ denoting a persistence diagram, which by definition is supported on a half plane $\\Omega \\subset \\mathbb{R}^2$.\n",
        "\n"
      ]
    },
    {
      "cell_type": "markdown",
      "metadata": {
        "id": "PTHfX9pdORvt"
      },
      "source": [
        "### Some Background"
      ]
    },
    {
      "cell_type": "markdown",
      "metadata": {
        "id": "0qAv-EbBORvt"
      },
      "source": [
        "Now, consider that our point cloud is random. Here, we will consider that it consists of $n$ points sampled _i.i.d_ with respect to some fixed underlying distribution $\\xi$, thus denoted as $\\mathbb{X}_n = \\{X_1 \\cdots X_n\\}$, with $X_i \\sim \\xi$. To a *random* realization of $\\mathbb{X}_n$ corresponds a *random* persistence diagram. Let $\\mathrm{Dgm}(\\mathbb{X}_n)$ denote the this random persistence diagram. It is a random variable.\n",
        "\n",
        "Theoretically computing $\\mathbb{EPD}(\\mathbb{X}_n)$ cannot be done. In practice, one is more likely to have access to some random point clouds $(\\mathbb{X}_n^{(k)})_k \\in \\mathbb{R}^{d \\times n \\times n_\\mathrm{obs}}$, $k = 1 \\dots n_\\mathrm{obs}$.\n",
        "\n",
        "From here on out, we redefine a persistence diagram as a sum of dirac measures on $\\Omega$ not involving the diagonal as: $\\mathrm{Dgm}(\\mathrm{Y})=\\Sigma_{p \\in \\mathrm{Dgm}(\\mathrm{Y})} \\delta_{p}$ where Y is a given point cloud.\n",
        "\n",
        "Define\n",
        "$$\\mathrm{Pers}_p(\\mu)= \\int_{\\Omega} \\|x-\\partial \\Omega \\|^p d\\mu(x)$$\n",
        "where $\\|x-\\partial \\Omega \\|= (t_2-t_1)/\\sqrt{2}$ is the persistence of a point $x= (t_1,t_2) \\in \\Omega$ and $\\mu$ is a persistence diagram.\n",
        "\n",
        "\n",
        "Also, define $$OT_p(\\mu,\\nu):= \\inf_{\\pi \\in \\mathcal{C^{-}}(\\mu,\\nu)} ((\\int\\int_{\\Omega \\times \\Omega} \\| x-y\\|^p d\\pi)+ \\mathrm{Pers}_p(\\mu-proj_1(\\pi))+ \\mathrm{Pers}_p(\\nu-proj_2(\\pi)))^{1/p}$$\n",
        "where $\\mathcal{C}^{-}= \\{ \\pi\\in \\mathcal{M}(\\Omega \\times \\Omega) \\mid proj_1(\\pi) \\leq \\mu, proj_2(\\pi) \\leq \\nu \\}$ are the set of subcoupling measures where $proj_1(\\pi)(A)= \\mu(A \\times \\Omega)$ and $proj_2(\\pi)(B)= \\mu(\\Omega \\times B)$.\n",
        "\n",
        "Define:\n",
        "$$\\forall K \\subset \\Omega, \\mathbb{EPD}(P)[K] := \\mathbb{E}_P[\\mu(K)],$$\n",
        "\n",
        "where $\\mu(K)$ is, by definition, the (random) number of points in $\\mu$ that belong to $K$ where $\\mu$ is a persistence diagram with $\\mu \\sim P$ and $K$ is a compact subset of $\\Omega$.\n",
        "\n",
        "It is shown in https://arxiv.org/pdf/2105.04852.pdf the following lemma, whose proof depends on the strong law of large numbers:\n",
        "\n",
        "**Lemma:**\n",
        "Let $P$ be a probability distribution on the space of persistence diagrams with $\\mathbb{E}_P[Pers_p(\\mu)] < \\infty$, $\\forall \\mu$ s.t. $\\mu \\sim P$. Let $(\\mu_k)_{k \\geq 1}$ be a sequence of i.i.d. variables of law P and let $\\bar{\\mu}_k= \\frac{1}{k}(\\mu_1+...+\\mu_k)$. Then,\n",
        "$$OT_p(\\bar{\\mu}_k, \\mathbb{EPD}(P)) \\rightarrow 0 \\text{ as } k \\rightarrow \\infty \\text{ almost surely}$$\n",
        "\n",
        "---\n",
        "\n",
        "Referring to the lemma above, let $P$ be the distribution on random persistence diagrams induced by random point clouds on n points with points sampled from law $\\xi$.\n",
        "\n",
        "Define the sample average of persistence diagrams as: $\\overline{\\mathrm{Dgm}}_{n_{obs}}= \\frac{1}{n_\\mathrm{obs}} \\sum_{k=1}^{n_\\mathrm{obs}} \\mathrm{Dgm}(\\mathbb{X}_n^{(k)})$. Assuming $\\mathbb{E}_P[Pers_p(\\mu)]<\\infty$ for $\\mu \\sim P$, by the lemma we have that $\\overline{\\mathrm{Dgm}}_{n_{obs}}$ converges to $\\mathbb{EPD}(P)$ with respect to the $OT_p$ distance almost surely (with probability one).\n",
        "\n",
        "\n",
        "\n",
        "\n",
        "\n"
      ]
    },
    {
      "cell_type": "markdown",
      "metadata": {
        "id": "rj_2YQzkORvu"
      },
      "source": [
        "## Experiment"
      ]
    },
    {
      "cell_type": "markdown",
      "metadata": {
        "id": "txnYFjf_ORvu"
      },
      "source": [
        "We will showcase expected diagrams in the following simple context:\n",
        "- Consider a point cloud $X$ with $n_\\mathrm{tot}$ points, which splits in $(1-p)n_\\mathrm{tot}$ points sampled on a nice shape $\\mathcal{M}$ (here, a simple circle), and $p n_\\mathrm{tot}$ outliers, where $p \\in (0,1)$ is the proportion of outliers. Let us call $X_\\mathrm{true}$ and $X_\\mathrm{out}$ these two point clouds.\n",
        "- The \"large\" point cloud $X$ should represent an underlying slightly noised distribution $\\xi$, namely a slightly noisy circle. Computing directly the (Vietoris-Rips complex) diagram of the whole point cloud $X$ should reflect the distribution of persistence diagrams $P$\n",
        "- Sampling \"smaller\" point clouds from $X$ and computing their Vietoris-Rips persistence diagram and then averaging, we obtain (an estimator of) $\\mathbb{EPD}(P)$ as determined by the lemma given above.\n",
        "- As the distributions $P$ and the distribution of the diagrams of point clouds sampled from the simple circle $\\mathcal{M}$ are similar (in Wasserstein sense), so should be their expected persistence diagrams. See the stability statement of Proposition 5.4 of https://arxiv.org/pdf/1901.03048.pdf."
      ]
    },
    {
      "cell_type": "markdown",
      "metadata": {
        "id": "CEO07GruORvv"
      },
      "source": [
        "#### Imports"
      ]
    },
    {
      "cell_type": "code",
      "metadata": {
        "id": "T4IS-VnbPlab",
        "colab": {
          "base_uri": "https://localhost:8080/"
        },
        "outputId": "7b76f3ee-b565-4da3-d4ae-5e3b13612b7b"
      },
      "source": [
        "!pip install ripser\n",
        "!pip install ripserplusplus\n",
        "!pip install gudhi\n",
        "!apt-get install cm-super\n",
        "!apt-get install dvipng texlive-latex-extra texlive-fonts-recommended"
      ],
      "execution_count": null,
      "outputs": [
        {
          "output_type": "stream",
          "text": [
            "Collecting ripser\n",
            "\u001b[?25l  Downloading https://files.pythonhosted.org/packages/b8/6c/d415052513439a43be06237d887066bb57016329445fabbc7a66904ec88f/ripser-0.6.0.tar.gz (71kB)\n",
            "\r\u001b[K     |████▋                           | 10kB 19.7MB/s eta 0:00:01\r\u001b[K     |█████████▏                      | 20kB 27.6MB/s eta 0:00:01\r\u001b[K     |█████████████▊                  | 30kB 24.0MB/s eta 0:00:01\r\u001b[K     |██████████████████▍             | 40kB 18.2MB/s eta 0:00:01\r\u001b[K     |███████████████████████         | 51kB 15.6MB/s eta 0:00:01\r\u001b[K     |███████████████████████████▌    | 61kB 14.3MB/s eta 0:00:01\r\u001b[K     |████████████████████████████████| 71kB 7.0MB/s \n",
            "\u001b[?25h  Installing build dependencies ... \u001b[?25l\u001b[?25hdone\n",
            "  Getting requirements to build wheel ... \u001b[?25l\u001b[?25hdone\n",
            "    Preparing wheel metadata ... \u001b[?25l\u001b[?25hdone\n",
            "Requirement already satisfied: scipy in /usr/local/lib/python3.7/dist-packages (from ripser) (1.4.1)\n",
            "Collecting persim\n",
            "\u001b[?25l  Downloading https://files.pythonhosted.org/packages/37/93/561457cd5eb05f4d37100ff7c435ce90097cc7e58710fba07a67fd889023/persim-0.3.0-py3-none-any.whl (47kB)\n",
            "\u001b[K     |████████████████████████████████| 51kB 8.6MB/s \n",
            "\u001b[?25hRequirement already satisfied: Cython in /usr/local/lib/python3.7/dist-packages (from ripser) (0.29.23)\n",
            "Requirement already satisfied: numpy in /usr/local/lib/python3.7/dist-packages (from ripser) (1.19.5)\n",
            "Requirement already satisfied: scikit-learn in /usr/local/lib/python3.7/dist-packages (from ripser) (0.22.2.post1)\n",
            "Collecting deprecated\n",
            "  Downloading https://files.pythonhosted.org/packages/fb/73/994edfcba74443146c84b91921fcc269374354118d4f452fb0c54c1cbb12/Deprecated-1.2.12-py2.py3-none-any.whl\n",
            "Requirement already satisfied: matplotlib in /usr/local/lib/python3.7/dist-packages (from persim->ripser) (3.2.2)\n",
            "Requirement already satisfied: joblib in /usr/local/lib/python3.7/dist-packages (from persim->ripser) (1.0.1)\n",
            "Collecting hopcroftkarp\n",
            "  Downloading https://files.pythonhosted.org/packages/6b/56/7b03eba3c43008c490c9d52e69ea5334b65955f66836eb4f1962f3b0d421/hopcroftkarp-1.2.5.tar.gz\n",
            "Requirement already satisfied: wrapt<2,>=1.10 in /usr/local/lib/python3.7/dist-packages (from deprecated->persim->ripser) (1.12.1)\n",
            "Requirement already satisfied: cycler>=0.10 in /usr/local/lib/python3.7/dist-packages (from matplotlib->persim->ripser) (0.10.0)\n",
            "Requirement already satisfied: python-dateutil>=2.1 in /usr/local/lib/python3.7/dist-packages (from matplotlib->persim->ripser) (2.8.1)\n",
            "Requirement already satisfied: pyparsing!=2.0.4,!=2.1.2,!=2.1.6,>=2.0.1 in /usr/local/lib/python3.7/dist-packages (from matplotlib->persim->ripser) (2.4.7)\n",
            "Requirement already satisfied: kiwisolver>=1.0.1 in /usr/local/lib/python3.7/dist-packages (from matplotlib->persim->ripser) (1.3.1)\n",
            "Requirement already satisfied: six in /usr/local/lib/python3.7/dist-packages (from cycler>=0.10->matplotlib->persim->ripser) (1.15.0)\n",
            "Building wheels for collected packages: ripser\n",
            "  Building wheel for ripser (PEP 517) ... \u001b[?25l\u001b[?25hdone\n",
            "  Created wheel for ripser: filename=ripser-0.6.0-cp37-cp37m-linux_x86_64.whl size=454919 sha256=c7897a622e7bceb3c73981884287fbb477dda0c7ef73262856b000fcac35897c\n",
            "  Stored in directory: /root/.cache/pip/wheels/95/1e/13/59da989de59903698d767dcb19414163e683a2dd31edf80417\n",
            "Successfully built ripser\n",
            "Building wheels for collected packages: hopcroftkarp\n",
            "  Building wheel for hopcroftkarp (setup.py) ... \u001b[?25l\u001b[?25hdone\n",
            "  Created wheel for hopcroftkarp: filename=hopcroftkarp-1.2.5-py2.py3-none-any.whl size=18091 sha256=d9fe25a7fb7958c712e755b8231177437311a7b8d4408bbed50c00ac788a9d7d\n",
            "  Stored in directory: /root/.cache/pip/wheels/2b/e1/c9/1993c7f7f114b7d3fb2d3e895e02157a7ebf554861e9e54e01\n",
            "Successfully built hopcroftkarp\n",
            "Installing collected packages: deprecated, hopcroftkarp, persim, ripser\n",
            "Successfully installed deprecated-1.2.12 hopcroftkarp-1.2.5 persim-0.3.0 ripser-0.6.0\n",
            "Collecting ripserplusplus\n",
            "\u001b[?25l  Downloading https://files.pythonhosted.org/packages/a7/3f/f646251aae5d230bb2708c1857066819957589a3ed106118759a23ee4a11/ripserplusplus-1.1.2.tar.gz (5.8MB)\n",
            "\u001b[K     |████████████████████████████████| 5.8MB 14.0MB/s \n",
            "\u001b[?25hRequirement already satisfied: cmake in /usr/local/lib/python3.7/dist-packages (from ripserplusplus) (3.12.0)\n",
            "Requirement already satisfied: numpy in /usr/local/lib/python3.7/dist-packages (from ripserplusplus) (1.19.5)\n",
            "Requirement already satisfied: scipy in /usr/local/lib/python3.7/dist-packages (from ripserplusplus) (1.4.1)\n",
            "Building wheels for collected packages: ripserplusplus\n",
            "  Building wheel for ripserplusplus (setup.py) ... \u001b[?25l\u001b[?25hdone\n",
            "  Created wheel for ripserplusplus: filename=ripserplusplus-1.1.2-cp37-cp37m-linux_x86_64.whl size=478485 sha256=c370e766110871e808d605c71acc490d60613be4f4f4010a869b9f73777ea92f\n",
            "  Stored in directory: /root/.cache/pip/wheels/ee/3e/75/07a6844db2ee6484dd43eafe94675795bd3ba5b549466bb336\n",
            "Successfully built ripserplusplus\n",
            "Installing collected packages: ripserplusplus\n",
            "Successfully installed ripserplusplus-1.1.2\n",
            "Collecting gudhi\n",
            "\u001b[?25l  Downloading https://files.pythonhosted.org/packages/4e/02/84538da083305b7634886149331150399d6b5d9e4043852e4bfee3256468/gudhi-3.4.1.post1-cp37-cp37m-manylinux2014_x86_64.whl (28.2MB)\n",
            "\u001b[K     |████████████████████████████████| 28.2MB 198kB/s \n",
            "\u001b[?25hRequirement already satisfied: numpy>=1.9 in /usr/local/lib/python3.7/dist-packages (from gudhi) (1.19.5)\n",
            "Installing collected packages: gudhi\n",
            "Successfully installed gudhi-3.4.1.post1\n",
            "Reading package lists... Done\n",
            "Building dependency tree       \n",
            "Reading state information... Done\n",
            "The following package was automatically installed and is no longer required:\n",
            "  libnvidia-common-460\n",
            "Use 'apt autoremove' to remove it.\n",
            "The following additional packages will be installed:\n",
            "  cm-super-minimal fonts-droid-fallback fonts-lmodern fonts-noto-mono\n",
            "  libcupsfilters1 libcupsimage2 libgs9 libgs9-common libijs-0.35 libjbig2dec0\n",
            "  libkpathsea6 libpotrace0 libptexenc1 libsynctex1 libtexlua52 libtexluajit2\n",
            "  libzzip-0-13 lmodern pfb2t1c2pfb poppler-data t1utils tex-common\n",
            "  texlive-base texlive-binaries texlive-latex-base texlive-latex-recommended\n",
            "Suggested packages:\n",
            "  fonts-noto poppler-utils ghostscript fonts-japanese-mincho\n",
            "  | fonts-ipafont-mincho fonts-japanese-gothic | fonts-ipafont-gothic\n",
            "  fonts-arphic-ukai fonts-arphic-uming fonts-nanum debhelper gv\n",
            "  | postscript-viewer perl-tk xpdf-reader | pdf-viewer texlive-latex-base-doc\n",
            "  texlive-latex-recommended-doc texlive-pstricks\n",
            "The following NEW packages will be installed:\n",
            "  cm-super cm-super-minimal fonts-droid-fallback fonts-lmodern fonts-noto-mono\n",
            "  libcupsfilters1 libcupsimage2 libgs9 libgs9-common libijs-0.35 libjbig2dec0\n",
            "  libkpathsea6 libpotrace0 libptexenc1 libsynctex1 libtexlua52 libtexluajit2\n",
            "  libzzip-0-13 lmodern pfb2t1c2pfb poppler-data t1utils tex-common\n",
            "  texlive-base texlive-binaries texlive-latex-base texlive-latex-recommended\n",
            "0 upgraded, 27 newly installed, 0 to remove and 34 not upgraded.\n",
            "Need to get 92.9 MB of archives.\n",
            "After this operation, 283 MB of additional disk space will be used.\n",
            "Get:1 http://archive.ubuntu.com/ubuntu bionic/main amd64 fonts-droid-fallback all 1:6.0.1r16-1.1 [1,805 kB]\n",
            "Get:2 http://archive.ubuntu.com/ubuntu bionic/main amd64 poppler-data all 0.4.8-2 [1,479 kB]\n",
            "Get:3 http://archive.ubuntu.com/ubuntu bionic/main amd64 tex-common all 6.09 [33.0 kB]\n",
            "Get:4 http://archive.ubuntu.com/ubuntu bionic-updates/main amd64 libkpathsea6 amd64 2017.20170613.44572-8ubuntu0.1 [54.9 kB]\n",
            "Get:5 http://archive.ubuntu.com/ubuntu bionic-updates/main amd64 libptexenc1 amd64 2017.20170613.44572-8ubuntu0.1 [34.5 kB]\n",
            "Get:6 http://archive.ubuntu.com/ubuntu bionic-updates/main amd64 libsynctex1 amd64 2017.20170613.44572-8ubuntu0.1 [41.4 kB]\n",
            "Get:7 http://archive.ubuntu.com/ubuntu bionic-updates/main amd64 libtexlua52 amd64 2017.20170613.44572-8ubuntu0.1 [91.2 kB]\n",
            "Get:8 http://archive.ubuntu.com/ubuntu bionic-updates/main amd64 libtexluajit2 amd64 2017.20170613.44572-8ubuntu0.1 [230 kB]\n",
            "Get:9 http://archive.ubuntu.com/ubuntu bionic/main amd64 t1utils amd64 1.41-2 [56.0 kB]\n",
            "Get:10 http://archive.ubuntu.com/ubuntu bionic-updates/main amd64 libcupsimage2 amd64 2.2.7-1ubuntu2.8 [18.6 kB]\n",
            "Get:11 http://archive.ubuntu.com/ubuntu bionic/main amd64 libijs-0.35 amd64 0.35-13 [15.5 kB]\n",
            "Get:12 http://archive.ubuntu.com/ubuntu bionic/main amd64 libjbig2dec0 amd64 0.13-6 [55.9 kB]\n",
            "Get:13 http://archive.ubuntu.com/ubuntu bionic-updates/main amd64 libgs9-common all 9.26~dfsg+0-0ubuntu0.18.04.14 [5,092 kB]\n",
            "Get:14 http://archive.ubuntu.com/ubuntu bionic-updates/main amd64 libgs9 amd64 9.26~dfsg+0-0ubuntu0.18.04.14 [2,265 kB]\n",
            "Get:15 http://archive.ubuntu.com/ubuntu bionic/main amd64 libpotrace0 amd64 1.14-2 [17.4 kB]\n",
            "Get:16 http://archive.ubuntu.com/ubuntu bionic-updates/main amd64 libzzip-0-13 amd64 0.13.62-3.1ubuntu0.18.04.1 [26.0 kB]\n",
            "Get:17 http://archive.ubuntu.com/ubuntu bionic-updates/main amd64 texlive-binaries amd64 2017.20170613.44572-8ubuntu0.1 [8,179 kB]\n",
            "Get:18 http://archive.ubuntu.com/ubuntu bionic/main amd64 texlive-base all 2017.20180305-1 [18.7 MB]\n",
            "Get:19 http://archive.ubuntu.com/ubuntu bionic/main amd64 fonts-lmodern all 2.004.5-3 [4,551 kB]\n",
            "Get:20 http://archive.ubuntu.com/ubuntu bionic/main amd64 texlive-latex-base all 2017.20180305-1 [951 kB]\n",
            "Get:21 http://archive.ubuntu.com/ubuntu bionic/main amd64 texlive-latex-recommended all 2017.20180305-1 [14.9 MB]\n",
            "Get:22 http://archive.ubuntu.com/ubuntu bionic/universe amd64 cm-super-minimal all 0.3.4-11 [5,810 kB]\n",
            "Get:23 http://archive.ubuntu.com/ubuntu bionic/universe amd64 pfb2t1c2pfb amd64 0.3-11 [9,342 B]\n",
            "Get:24 http://archive.ubuntu.com/ubuntu bionic/universe amd64 cm-super all 0.3.4-11 [18.7 MB]\n",
            "Get:25 http://archive.ubuntu.com/ubuntu bionic/main amd64 fonts-noto-mono all 20171026-2 [75.5 kB]\n",
            "Get:26 http://archive.ubuntu.com/ubuntu bionic-updates/main amd64 libcupsfilters1 amd64 1.20.2-0ubuntu3.1 [108 kB]\n",
            "Get:27 http://archive.ubuntu.com/ubuntu bionic/main amd64 lmodern all 2.004.5-3 [9,631 kB]\n",
            "Fetched 92.9 MB in 1s (66.8 MB/s)\n",
            "Preconfiguring packages ...\n",
            "Selecting previously unselected package fonts-droid-fallback.\n",
            "(Reading database ... 160706 files and directories currently installed.)\n",
            "Preparing to unpack .../00-fonts-droid-fallback_1%3a6.0.1r16-1.1_all.deb ...\n",
            "Unpacking fonts-droid-fallback (1:6.0.1r16-1.1) ...\n",
            "Selecting previously unselected package poppler-data.\n",
            "Preparing to unpack .../01-poppler-data_0.4.8-2_all.deb ...\n",
            "Unpacking poppler-data (0.4.8-2) ...\n",
            "Selecting previously unselected package tex-common.\n",
            "Preparing to unpack .../02-tex-common_6.09_all.deb ...\n",
            "Unpacking tex-common (6.09) ...\n",
            "Selecting previously unselected package libkpathsea6:amd64.\n",
            "Preparing to unpack .../03-libkpathsea6_2017.20170613.44572-8ubuntu0.1_amd64.deb ...\n",
            "Unpacking libkpathsea6:amd64 (2017.20170613.44572-8ubuntu0.1) ...\n",
            "Selecting previously unselected package libptexenc1:amd64.\n",
            "Preparing to unpack .../04-libptexenc1_2017.20170613.44572-8ubuntu0.1_amd64.deb ...\n",
            "Unpacking libptexenc1:amd64 (2017.20170613.44572-8ubuntu0.1) ...\n",
            "Selecting previously unselected package libsynctex1:amd64.\n",
            "Preparing to unpack .../05-libsynctex1_2017.20170613.44572-8ubuntu0.1_amd64.deb ...\n",
            "Unpacking libsynctex1:amd64 (2017.20170613.44572-8ubuntu0.1) ...\n",
            "Selecting previously unselected package libtexlua52:amd64.\n",
            "Preparing to unpack .../06-libtexlua52_2017.20170613.44572-8ubuntu0.1_amd64.deb ...\n",
            "Unpacking libtexlua52:amd64 (2017.20170613.44572-8ubuntu0.1) ...\n",
            "Selecting previously unselected package libtexluajit2:amd64.\n",
            "Preparing to unpack .../07-libtexluajit2_2017.20170613.44572-8ubuntu0.1_amd64.deb ...\n",
            "Unpacking libtexluajit2:amd64 (2017.20170613.44572-8ubuntu0.1) ...\n",
            "Selecting previously unselected package t1utils.\n",
            "Preparing to unpack .../08-t1utils_1.41-2_amd64.deb ...\n",
            "Unpacking t1utils (1.41-2) ...\n",
            "Selecting previously unselected package libcupsimage2:amd64.\n",
            "Preparing to unpack .../09-libcupsimage2_2.2.7-1ubuntu2.8_amd64.deb ...\n",
            "Unpacking libcupsimage2:amd64 (2.2.7-1ubuntu2.8) ...\n",
            "Selecting previously unselected package libijs-0.35:amd64.\n",
            "Preparing to unpack .../10-libijs-0.35_0.35-13_amd64.deb ...\n",
            "Unpacking libijs-0.35:amd64 (0.35-13) ...\n",
            "Selecting previously unselected package libjbig2dec0:amd64.\n",
            "Preparing to unpack .../11-libjbig2dec0_0.13-6_amd64.deb ...\n",
            "Unpacking libjbig2dec0:amd64 (0.13-6) ...\n",
            "Selecting previously unselected package libgs9-common.\n",
            "Preparing to unpack .../12-libgs9-common_9.26~dfsg+0-0ubuntu0.18.04.14_all.deb ...\n",
            "Unpacking libgs9-common (9.26~dfsg+0-0ubuntu0.18.04.14) ...\n",
            "Selecting previously unselected package libgs9:amd64.\n",
            "Preparing to unpack .../13-libgs9_9.26~dfsg+0-0ubuntu0.18.04.14_amd64.deb ...\n",
            "Unpacking libgs9:amd64 (9.26~dfsg+0-0ubuntu0.18.04.14) ...\n",
            "Selecting previously unselected package libpotrace0.\n",
            "Preparing to unpack .../14-libpotrace0_1.14-2_amd64.deb ...\n",
            "Unpacking libpotrace0 (1.14-2) ...\n",
            "Selecting previously unselected package libzzip-0-13:amd64.\n",
            "Preparing to unpack .../15-libzzip-0-13_0.13.62-3.1ubuntu0.18.04.1_amd64.deb ...\n",
            "Unpacking libzzip-0-13:amd64 (0.13.62-3.1ubuntu0.18.04.1) ...\n",
            "Selecting previously unselected package texlive-binaries.\n",
            "Preparing to unpack .../16-texlive-binaries_2017.20170613.44572-8ubuntu0.1_amd64.deb ...\n",
            "Unpacking texlive-binaries (2017.20170613.44572-8ubuntu0.1) ...\n",
            "Selecting previously unselected package texlive-base.\n",
            "Preparing to unpack .../17-texlive-base_2017.20180305-1_all.deb ...\n",
            "Unpacking texlive-base (2017.20180305-1) ...\n",
            "Selecting previously unselected package fonts-lmodern.\n",
            "Preparing to unpack .../18-fonts-lmodern_2.004.5-3_all.deb ...\n",
            "Unpacking fonts-lmodern (2.004.5-3) ...\n",
            "Selecting previously unselected package texlive-latex-base.\n",
            "Preparing to unpack .../19-texlive-latex-base_2017.20180305-1_all.deb ...\n",
            "Unpacking texlive-latex-base (2017.20180305-1) ...\n",
            "Selecting previously unselected package texlive-latex-recommended.\n",
            "Preparing to unpack .../20-texlive-latex-recommended_2017.20180305-1_all.deb ...\n",
            "Unpacking texlive-latex-recommended (2017.20180305-1) ...\n",
            "Selecting previously unselected package cm-super-minimal.\n",
            "Preparing to unpack .../21-cm-super-minimal_0.3.4-11_all.deb ...\n",
            "Unpacking cm-super-minimal (0.3.4-11) ...\n",
            "Selecting previously unselected package pfb2t1c2pfb.\n",
            "Preparing to unpack .../22-pfb2t1c2pfb_0.3-11_amd64.deb ...\n",
            "Unpacking pfb2t1c2pfb (0.3-11) ...\n",
            "Selecting previously unselected package cm-super.\n",
            "Preparing to unpack .../23-cm-super_0.3.4-11_all.deb ...\n",
            "Unpacking cm-super (0.3.4-11) ...\n",
            "Selecting previously unselected package fonts-noto-mono.\n",
            "Preparing to unpack .../24-fonts-noto-mono_20171026-2_all.deb ...\n",
            "Unpacking fonts-noto-mono (20171026-2) ...\n",
            "Selecting previously unselected package libcupsfilters1:amd64.\n",
            "Preparing to unpack .../25-libcupsfilters1_1.20.2-0ubuntu3.1_amd64.deb ...\n",
            "Unpacking libcupsfilters1:amd64 (1.20.2-0ubuntu3.1) ...\n",
            "Selecting previously unselected package lmodern.\n",
            "Preparing to unpack .../26-lmodern_2.004.5-3_all.deb ...\n",
            "Unpacking lmodern (2.004.5-3) ...\n",
            "Setting up libgs9-common (9.26~dfsg+0-0ubuntu0.18.04.14) ...\n",
            "Setting up libkpathsea6:amd64 (2017.20170613.44572-8ubuntu0.1) ...\n",
            "Setting up libtexlua52:amd64 (2017.20170613.44572-8ubuntu0.1) ...\n",
            "Setting up fonts-droid-fallback (1:6.0.1r16-1.1) ...\n",
            "Setting up libsynctex1:amd64 (2017.20170613.44572-8ubuntu0.1) ...\n",
            "Setting up libptexenc1:amd64 (2017.20170613.44572-8ubuntu0.1) ...\n",
            "Setting up tex-common (6.09) ...\n",
            "update-language: texlive-base not installed and configured, doing nothing!\n",
            "Setting up poppler-data (0.4.8-2) ...\n",
            "Setting up pfb2t1c2pfb (0.3-11) ...\n",
            "Setting up fonts-noto-mono (20171026-2) ...\n",
            "Setting up libcupsfilters1:amd64 (1.20.2-0ubuntu3.1) ...\n",
            "Setting up libcupsimage2:amd64 (2.2.7-1ubuntu2.8) ...\n",
            "Setting up libjbig2dec0:amd64 (0.13-6) ...\n",
            "Setting up t1utils (1.41-2) ...\n",
            "Setting up libijs-0.35:amd64 (0.35-13) ...\n",
            "Setting up libpotrace0 (1.14-2) ...\n",
            "Setting up libzzip-0-13:amd64 (0.13.62-3.1ubuntu0.18.04.1) ...\n",
            "Setting up libgs9:amd64 (9.26~dfsg+0-0ubuntu0.18.04.14) ...\n",
            "Setting up libtexluajit2:amd64 (2017.20170613.44572-8ubuntu0.1) ...\n",
            "Setting up fonts-lmodern (2.004.5-3) ...\n",
            "Setting up texlive-binaries (2017.20170613.44572-8ubuntu0.1) ...\n",
            "update-alternatives: using /usr/bin/xdvi-xaw to provide /usr/bin/xdvi.bin (xdvi.bin) in auto mode\n",
            "update-alternatives: using /usr/bin/bibtex.original to provide /usr/bin/bibtex (bibtex) in auto mode\n",
            "Setting up texlive-base (2017.20180305-1) ...\n",
            "mktexlsr: Updating /var/lib/texmf/ls-R-TEXLIVEDIST... \n",
            "mktexlsr: Updating /var/lib/texmf/ls-R-TEXMFMAIN... \n",
            "mktexlsr: Updating /var/lib/texmf/ls-R... \n",
            "mktexlsr: Done.\n",
            "tl-paper: setting paper size for dvips to a4: /var/lib/texmf/dvips/config/config-paper.ps\n",
            "tl-paper: setting paper size for dvipdfmx to a4: /var/lib/texmf/dvipdfmx/dvipdfmx-paper.cfg\n",
            "tl-paper: setting paper size for xdvi to a4: /var/lib/texmf/xdvi/XDvi-paper\n",
            "tl-paper: setting paper size for pdftex to a4: /var/lib/texmf/tex/generic/config/pdftexconfig.tex\n",
            "Setting up texlive-latex-base (2017.20180305-1) ...\n",
            "Setting up lmodern (2.004.5-3) ...\n",
            "Setting up texlive-latex-recommended (2017.20180305-1) ...\n",
            "Setting up cm-super-minimal (0.3.4-11) ...\n",
            "Setting up cm-super (0.3.4-11) ...\n",
            "Creating fonts. This may take some time... done.\n",
            "Processing triggers for man-db (2.8.3-2ubuntu0.1) ...\n",
            "Processing triggers for fontconfig (2.12.6-0ubuntu2) ...\n",
            "Processing triggers for mime-support (3.60ubuntu1) ...\n",
            "Processing triggers for libc-bin (2.27-3ubuntu1.2) ...\n",
            "/sbin/ldconfig.real: /usr/local/lib/python3.7/dist-packages/ideep4py/lib/libmkldnn.so.0 is not a symbolic link\n",
            "\n",
            "Processing triggers for tex-common (6.09) ...\n",
            "Running updmap-sys. This may take some time... done.\n",
            "Running mktexlsr /var/lib/texmf ... done.\n",
            "Building format(s) --all.\n",
            "\tThis may take some time... done.\n",
            "Reading package lists... Done\n",
            "Building dependency tree       \n",
            "Reading state information... Done\n",
            "The following package was automatically installed and is no longer required:\n",
            "  libnvidia-common-460\n",
            "Use 'apt autoremove' to remove it.\n",
            "The following additional packages will be installed:\n",
            "  fonts-lato fonts-texgyre ghostscript gsfonts javascript-common libjs-jquery\n",
            "  libruby2.5 preview-latex-style rake ruby ruby-did-you-mean ruby-minitest\n",
            "  ruby-net-telnet ruby-power-assert ruby-test-unit ruby2.5\n",
            "  rubygems-integration tex-gyre texlive-pictures texlive-plain-generic tipa\n",
            "Suggested packages:\n",
            "  ghostscript-x apache2 | lighttpd | httpd ri ruby-dev bundler\n",
            "  texlive-fonts-recommended-doc python-pygments icc-profiles\n",
            "  libfile-which-perl libspreadsheet-parseexcel-perl texlive-latex-extra-doc\n",
            "  dot2tex prerex ruby-tcltk | libtcltk-ruby texlive-pictures-doc vprerex\n",
            "The following NEW packages will be installed:\n",
            "  dvipng fonts-lato fonts-texgyre ghostscript gsfonts javascript-common\n",
            "  libjs-jquery libruby2.5 preview-latex-style rake ruby ruby-did-you-mean\n",
            "  ruby-minitest ruby-net-telnet ruby-power-assert ruby-test-unit ruby2.5\n",
            "  rubygems-integration tex-gyre texlive-fonts-recommended texlive-latex-extra\n",
            "  texlive-pictures texlive-plain-generic tipa\n",
            "0 upgraded, 24 newly installed, 0 to remove and 34 not upgraded.\n",
            "Need to get 69.8 MB of archives.\n",
            "After this operation, 221 MB of additional disk space will be used.\n",
            "Get:1 http://archive.ubuntu.com/ubuntu bionic/main amd64 fonts-lato all 2.0-2 [2,698 kB]\n",
            "Get:2 http://archive.ubuntu.com/ubuntu bionic-updates/main amd64 ghostscript amd64 9.26~dfsg+0-0ubuntu0.18.04.14 [51.3 kB]\n",
            "Get:3 http://archive.ubuntu.com/ubuntu bionic/universe amd64 dvipng amd64 1.15-1 [78.2 kB]\n",
            "Get:4 http://archive.ubuntu.com/ubuntu bionic/universe amd64 fonts-texgyre all 20160520-1 [8,761 kB]\n",
            "Get:5 http://archive.ubuntu.com/ubuntu bionic/main amd64 gsfonts all 1:8.11+urwcyr1.0.7~pre44-4.4 [3,120 kB]\n",
            "Get:6 http://archive.ubuntu.com/ubuntu bionic/main amd64 javascript-common all 11 [6,066 B]\n",
            "Get:7 http://archive.ubuntu.com/ubuntu bionic/main amd64 libjs-jquery all 3.2.1-1 [152 kB]\n",
            "Get:8 http://archive.ubuntu.com/ubuntu bionic/main amd64 rubygems-integration all 1.11 [4,994 B]\n",
            "Get:9 http://archive.ubuntu.com/ubuntu bionic-updates/main amd64 ruby2.5 amd64 2.5.1-1ubuntu1.9 [48.6 kB]\n",
            "Get:10 http://archive.ubuntu.com/ubuntu bionic/main amd64 ruby amd64 1:2.5.1 [5,712 B]\n",
            "Get:11 http://archive.ubuntu.com/ubuntu bionic-updates/main amd64 rake all 12.3.1-1ubuntu0.1 [44.9 kB]\n",
            "Get:12 http://archive.ubuntu.com/ubuntu bionic/main amd64 ruby-did-you-mean all 1.2.0-2 [9,700 B]\n",
            "Get:13 http://archive.ubuntu.com/ubuntu bionic/main amd64 ruby-minitest all 5.10.3-1 [38.6 kB]\n",
            "Get:14 http://archive.ubuntu.com/ubuntu bionic/main amd64 ruby-net-telnet all 0.1.1-2 [12.6 kB]\n",
            "Get:15 http://archive.ubuntu.com/ubuntu bionic/main amd64 ruby-power-assert all 0.3.0-1 [7,952 B]\n",
            "Get:16 http://archive.ubuntu.com/ubuntu bionic/main amd64 ruby-test-unit all 3.2.5-1 [61.1 kB]\n",
            "Get:17 http://archive.ubuntu.com/ubuntu bionic-updates/main amd64 libruby2.5 amd64 2.5.1-1ubuntu1.9 [3,072 kB]\n",
            "Get:18 http://archive.ubuntu.com/ubuntu bionic/main amd64 preview-latex-style all 11.91-1ubuntu1 [185 kB]\n",
            "Get:19 http://archive.ubuntu.com/ubuntu bionic/universe amd64 tex-gyre all 20160520-1 [4,998 kB]\n",
            "Get:20 http://archive.ubuntu.com/ubuntu bionic/universe amd64 texlive-fonts-recommended all 2017.20180305-1 [5,262 kB]\n",
            "Get:21 http://archive.ubuntu.com/ubuntu bionic/universe amd64 texlive-pictures all 2017.20180305-1 [4,026 kB]\n",
            "Get:22 http://archive.ubuntu.com/ubuntu bionic/universe amd64 texlive-latex-extra all 2017.20180305-2 [10.6 MB]\n",
            "Get:23 http://archive.ubuntu.com/ubuntu bionic/universe amd64 texlive-plain-generic all 2017.20180305-2 [23.6 MB]\n",
            "Get:24 http://archive.ubuntu.com/ubuntu bionic/universe amd64 tipa all 2:1.3-20 [2,978 kB]\n",
            "Fetched 69.8 MB in 1s (71.1 MB/s)\n",
            "Selecting previously unselected package fonts-lato.\n",
            "(Reading database ... 168501 files and directories currently installed.)\n",
            "Preparing to unpack .../00-fonts-lato_2.0-2_all.deb ...\n",
            "Unpacking fonts-lato (2.0-2) ...\n",
            "Selecting previously unselected package ghostscript.\n",
            "Preparing to unpack .../01-ghostscript_9.26~dfsg+0-0ubuntu0.18.04.14_amd64.deb ...\n",
            "Unpacking ghostscript (9.26~dfsg+0-0ubuntu0.18.04.14) ...\n",
            "Selecting previously unselected package dvipng.\n",
            "Preparing to unpack .../02-dvipng_1.15-1_amd64.deb ...\n",
            "Unpacking dvipng (1.15-1) ...\n",
            "Selecting previously unselected package fonts-texgyre.\n",
            "Preparing to unpack .../03-fonts-texgyre_20160520-1_all.deb ...\n",
            "Unpacking fonts-texgyre (20160520-1) ...\n",
            "Selecting previously unselected package gsfonts.\n",
            "Preparing to unpack .../04-gsfonts_1%3a8.11+urwcyr1.0.7~pre44-4.4_all.deb ...\n",
            "Unpacking gsfonts (1:8.11+urwcyr1.0.7~pre44-4.4) ...\n",
            "Selecting previously unselected package javascript-common.\n",
            "Preparing to unpack .../05-javascript-common_11_all.deb ...\n",
            "Unpacking javascript-common (11) ...\n",
            "Selecting previously unselected package libjs-jquery.\n",
            "Preparing to unpack .../06-libjs-jquery_3.2.1-1_all.deb ...\n",
            "Unpacking libjs-jquery (3.2.1-1) ...\n",
            "Selecting previously unselected package rubygems-integration.\n",
            "Preparing to unpack .../07-rubygems-integration_1.11_all.deb ...\n",
            "Unpacking rubygems-integration (1.11) ...\n",
            "Selecting previously unselected package ruby2.5.\n",
            "Preparing to unpack .../08-ruby2.5_2.5.1-1ubuntu1.9_amd64.deb ...\n",
            "Unpacking ruby2.5 (2.5.1-1ubuntu1.9) ...\n",
            "Selecting previously unselected package ruby.\n",
            "Preparing to unpack .../09-ruby_1%3a2.5.1_amd64.deb ...\n",
            "Unpacking ruby (1:2.5.1) ...\n",
            "Selecting previously unselected package rake.\n",
            "Preparing to unpack .../10-rake_12.3.1-1ubuntu0.1_all.deb ...\n",
            "Unpacking rake (12.3.1-1ubuntu0.1) ...\n",
            "Selecting previously unselected package ruby-did-you-mean.\n",
            "Preparing to unpack .../11-ruby-did-you-mean_1.2.0-2_all.deb ...\n",
            "Unpacking ruby-did-you-mean (1.2.0-2) ...\n",
            "Selecting previously unselected package ruby-minitest.\n",
            "Preparing to unpack .../12-ruby-minitest_5.10.3-1_all.deb ...\n",
            "Unpacking ruby-minitest (5.10.3-1) ...\n",
            "Selecting previously unselected package ruby-net-telnet.\n",
            "Preparing to unpack .../13-ruby-net-telnet_0.1.1-2_all.deb ...\n",
            "Unpacking ruby-net-telnet (0.1.1-2) ...\n",
            "Selecting previously unselected package ruby-power-assert.\n",
            "Preparing to unpack .../14-ruby-power-assert_0.3.0-1_all.deb ...\n",
            "Unpacking ruby-power-assert (0.3.0-1) ...\n",
            "Selecting previously unselected package ruby-test-unit.\n",
            "Preparing to unpack .../15-ruby-test-unit_3.2.5-1_all.deb ...\n",
            "Unpacking ruby-test-unit (3.2.5-1) ...\n",
            "Selecting previously unselected package libruby2.5:amd64.\n",
            "Preparing to unpack .../16-libruby2.5_2.5.1-1ubuntu1.9_amd64.deb ...\n",
            "Unpacking libruby2.5:amd64 (2.5.1-1ubuntu1.9) ...\n",
            "Selecting previously unselected package preview-latex-style.\n",
            "Preparing to unpack .../17-preview-latex-style_11.91-1ubuntu1_all.deb ...\n",
            "Unpacking preview-latex-style (11.91-1ubuntu1) ...\n",
            "Selecting previously unselected package tex-gyre.\n",
            "Preparing to unpack .../18-tex-gyre_20160520-1_all.deb ...\n",
            "Unpacking tex-gyre (20160520-1) ...\n",
            "Selecting previously unselected package texlive-fonts-recommended.\n",
            "Preparing to unpack .../19-texlive-fonts-recommended_2017.20180305-1_all.deb ...\n",
            "Unpacking texlive-fonts-recommended (2017.20180305-1) ...\n",
            "Selecting previously unselected package texlive-pictures.\n",
            "Preparing to unpack .../20-texlive-pictures_2017.20180305-1_all.deb ...\n",
            "Unpacking texlive-pictures (2017.20180305-1) ...\n",
            "Selecting previously unselected package texlive-latex-extra.\n",
            "Preparing to unpack .../21-texlive-latex-extra_2017.20180305-2_all.deb ...\n",
            "Unpacking texlive-latex-extra (2017.20180305-2) ...\n",
            "Selecting previously unselected package texlive-plain-generic.\n",
            "Preparing to unpack .../22-texlive-plain-generic_2017.20180305-2_all.deb ...\n",
            "Unpacking texlive-plain-generic (2017.20180305-2) ...\n",
            "Selecting previously unselected package tipa.\n",
            "Preparing to unpack .../23-tipa_2%3a1.3-20_all.deb ...\n",
            "Unpacking tipa (2:1.3-20) ...\n",
            "Setting up libjs-jquery (3.2.1-1) ...\n",
            "Setting up gsfonts (1:8.11+urwcyr1.0.7~pre44-4.4) ...\n",
            "Setting up texlive-pictures (2017.20180305-1) ...\n",
            "Setting up tex-gyre (20160520-1) ...\n",
            "Setting up tipa (2:1.3-20) ...\n",
            "Regenerating '/var/lib/texmf/fmtutil.cnf-DEBIAN'... done.\n",
            "Regenerating '/var/lib/texmf/fmtutil.cnf-TEXLIVEDIST'... done.\n",
            "update-fmtutil has updated the following file(s):\n",
            "\t/var/lib/texmf/fmtutil.cnf-DEBIAN\n",
            "\t/var/lib/texmf/fmtutil.cnf-TEXLIVEDIST\n",
            "If you want to activate the changes in the above file(s),\n",
            "you should run fmtutil-sys or fmtutil.\n",
            "Setting up preview-latex-style (11.91-1ubuntu1) ...\n",
            "Setting up ghostscript (9.26~dfsg+0-0ubuntu0.18.04.14) ...\n",
            "Setting up fonts-texgyre (20160520-1) ...\n",
            "Setting up fonts-lato (2.0-2) ...\n",
            "Setting up ruby-did-you-mean (1.2.0-2) ...\n",
            "Setting up ruby-net-telnet (0.1.1-2) ...\n",
            "Setting up rubygems-integration (1.11) ...\n",
            "Setting up javascript-common (11) ...\n",
            "Setting up texlive-fonts-recommended (2017.20180305-1) ...\n",
            "Setting up texlive-plain-generic (2017.20180305-2) ...\n",
            "Setting up ruby-minitest (5.10.3-1) ...\n",
            "Setting up ruby-power-assert (0.3.0-1) ...\n",
            "Setting up texlive-latex-extra (2017.20180305-2) ...\n",
            "Setting up dvipng (1.15-1) ...\n",
            "Setting up rake (12.3.1-1ubuntu0.1) ...\n",
            "Setting up ruby2.5 (2.5.1-1ubuntu1.9) ...\n",
            "Setting up ruby (1:2.5.1) ...\n",
            "Setting up ruby-test-unit (3.2.5-1) ...\n",
            "Setting up libruby2.5:amd64 (2.5.1-1ubuntu1.9) ...\n",
            "Processing triggers for tex-common (6.09) ...\n",
            "Running mktexlsr. This may take some time... done.\n",
            "Running updmap-sys. This may take some time... done.\n",
            "Running mktexlsr /var/lib/texmf ... done.\n",
            "Processing triggers for libc-bin (2.27-3ubuntu1.2) ...\n",
            "/sbin/ldconfig.real: /usr/local/lib/python3.7/dist-packages/ideep4py/lib/libmkldnn.so.0 is not a symbolic link\n",
            "\n",
            "Processing triggers for man-db (2.8.3-2ubuntu0.1) ...\n",
            "Processing triggers for fontconfig (2.12.6-0ubuntu2) ...\n"
          ],
          "name": "stdout"
        }
      ]
    },
    {
      "cell_type": "code",
      "metadata": {
        "id": "dw_erJb0ORvw"
      },
      "source": [
        "# Note: %matplotlib notebook allows for iteractive 3D plot.\n",
        "#%matplotlib notebook\n",
        "%matplotlib inline"
      ],
      "execution_count": null,
      "outputs": []
    },
    {
      "cell_type": "code",
      "metadata": {
        "id": "SHYqsYrUORvx"
      },
      "source": [
        "import numpy as np\n",
        "import gudhi as gd\n",
        "import matplotlib.pyplot as plt\n",
        "from matplotlib.patches import Polygon\n",
        "from matplotlib import rc\n",
        "import ripserplusplus as rpp\n",
        "from ripser import ripser\n",
        "from tqdm import tqdm\n",
        "import sys\n",
        "plt.rc('text', usetex=True)\n",
        "plt.rc('font', family='serif')"
      ],
      "execution_count": null,
      "outputs": []
    },
    {
      "cell_type": "markdown",
      "metadata": {
        "id": "_22lIaK_ORvx"
      },
      "source": [
        "#### Sampling functions"
      ]
    },
    {
      "cell_type": "code",
      "metadata": {
        "id": "aEKgXiybORvx"
      },
      "source": [
        "def sample_circle(n):\n",
        "    theta = 2 * np.pi * np.random.rand(n)\n",
        "    x, y = np.cos(theta), np.sin(theta)\n",
        "    return np.array([x, y]).T\n",
        "\n",
        "\n",
        "def sample_torus(n, r1, r2):\n",
        "    theta1 = 2 * np.pi * np.random.rand(n)\n",
        "    theta2 = 2 * np.pi * np.random.rand(n)\n",
        "\n",
        "    x = (r1 + r2 * np.cos(theta2)) * np.cos(theta1)\n",
        "    y = (r1 + r2 * np.cos(theta2)) * np.sin(theta1)\n",
        "    z = r2 * np.sin(theta2)\n",
        "\n",
        "    X = np.array([x, y, z]).T\n",
        "\n",
        "    return X\n",
        "def sample_hypercube(n):\n",
        "  return np.random.random((n,100000))\n",
        "\n",
        "def sample_spherical(npoints, ndim=3):\n",
        "    vec = np.random.randn(ndim, npoints)\n",
        "    vec /= np.linalg.norm(vec, axis=0)\n",
        "    return vec\n",
        "\n",
        "def sample_hypersphere(n):\n",
        "  return sample_spherical(n)"
      ],
      "execution_count": null,
      "outputs": []
    },
    {
      "cell_type": "code",
      "metadata": {
        "id": "aQcKk3-wORvy"
      },
      "source": [
        "def sample_noise(N, ndim, scale=1., type=\"uniform\"):\n",
        "    '''\n",
        "    noise sample uniforme on [-scale, scale]^2 or gaussien N(0, scale^2)\n",
        "    '''\n",
        "    if type==\"uniform\":\n",
        "        X_noise = scale * (2 * np.random.rand(N, ndim) - 1)\n",
        "    elif type==\"gaussian\":\n",
        "        X_noise = scale * np.random.randn(N, ndim)\n",
        "    return X_noise\n",
        "\n",
        "\n",
        "def add_noise(X_noise, X):\n",
        "    return np.concatenate([X, X_noise])"
      ],
      "execution_count": null,
      "outputs": []
    },
    {
      "cell_type": "code",
      "metadata": {
        "id": "nmMT_TYhO-ry"
      },
      "source": [
        "def ripscomplex(X, hdim=1):\n",
        "    pairs= rpp.run(\"--format point-cloud --dim \"+str(hdim), X)[hdim]\n",
        "    return np.sqrt(np.array((pairs.tolist())).reshape((len(pairs),2)))\n",
        ""
      ],
      "execution_count": null,
      "outputs": []
    },
    {
      "cell_type": "code",
      "metadata": {
        "id": "8pBxohYsGVuA"
      },
      "source": [
        "def ripscomplex_ripser(X, hdim=1):\n",
        "  h1= ripser(X, maxdim=1)['dgms'][1]\n",
        "  return np.sqrt(h1)"
      ],
      "execution_count": null,
      "outputs": []
    },
    {
      "cell_type": "code",
      "metadata": {
        "id": "_enEMnEaJwHD"
      },
      "source": [
        "def ripscomplex_gudhi(X, hdim=1):\n",
        "  ac = gd.RipsComplex(points=X)\n",
        "  st = ac.create_simplex_tree(max_dimension=hdim+1)\n",
        "  pers = st.persistence(min_persistence=0.0001)\n",
        "  h1 = st.persistence_intervals_in_dimension(hdim)\n",
        "  return np.sqrt(np.array(h1))"
      ],
      "execution_count": null,
      "outputs": []
    },
    {
      "cell_type": "code",
      "metadata": {
        "id": "r8EHxPP2ORvy"
      },
      "source": [
        "# Compute persistence diagram using the Cech filtration\n",
        "def alphacomplex(X, hdim=1):\n",
        "    ac = gd.AlphaComplex(points=X)\n",
        "    st = ac.create_simplex_tree()\n",
        "    pers = st.persistence(min_persistence=0.0001)\n",
        "    h1 = st.persistence_intervals_in_dimension(hdim)\n",
        "    return np.sqrt(np.array(h1))  # we must sqrt to get Cech dgm"
      ],
      "execution_count": null,
      "outputs": []
    },
    {
      "cell_type": "code",
      "metadata": {
        "id": "ihl2XJi5ORvy"
      },
      "source": [
        "def expected_dgm(X, n, k, hdim=1, replace=True):\n",
        "    '''\n",
        "    Subsample n points in a point cloud X, k times, and return the k computed persistence diagrams.\n",
        "    '''\n",
        "    N = len(X)  # total nb of points\n",
        "    samples = [np.random.choice(N, n, replace=replace) for _ in range(k)]\n",
        "    Xs = [X[sample] for sample in samples]\n",
        "    #diags = [ripscomplex(X,hdim=hdim) for X in Xs]#[alphacomplex(X, hdim=hdim) for X in Xs]\n",
        "    diags= []\n",
        "    #sys.stdout.write('\\033[2K\\033[1G')\n",
        "    #print('\\033[2K\\033[1G')\n",
        "    for i in tqdm(range(len(Xs))):\n",
        "      diags.append(ripscomplex(Xs[i],hdim=hdim))\n",
        "      #print('\\033[2K\\033[1G')\n",
        "      if(i%100==0):\n",
        "        #print('\\033[2K\\033[1G')\n",
        "        sys.stdout.write('\\033[2K\\033[1G')\n",
        "    return diags"
      ],
      "execution_count": null,
      "outputs": []
    },
    {
      "cell_type": "markdown",
      "metadata": {
        "id": "8KKhUfMNORvz"
      },
      "source": [
        "#### Plot utils"
      ]
    },
    {
      "cell_type": "code",
      "metadata": {
        "id": "mBDB4TUeORvz"
      },
      "source": [
        "# Discretization utils to plot expected PD in a nice way.\n",
        "\n",
        "def discretize_dgm(diag, m=0, M=1, res=30, expo=2., filt=None, sigma=1.):\n",
        "    '''\n",
        "    Discretize one diagram, returns a 2D-histogram of size (res x res), the grid representing [m, M]^2.\n",
        "    '''\n",
        "    if diag.size:\n",
        "        h2d = np.histogram2d(diag[:,0], diag[:,1], bins=res, range=[[m, M],[m, M]])[0]\n",
        "        h2d = np.flip(h2d.T, axis=0)\n",
        "        if filt==\"gaussian\":\n",
        "            h2d = gaussian_filter(h2d, sigma=sigma)\n",
        "        return h2d\n",
        "    else:\n",
        "        return np.zeros((res, res))\n",
        "\n",
        "def tohist(diags, m=0, M=1, res=30, expo=2.,filt=None, sigma=1.):\n",
        "    '''Take a list of observed diagrams 'diags' and return an histogram\n",
        "    which is an estimator of E(Dgm(X_n)) for some integer n'''\n",
        "\n",
        "    output = [discretize_dgm(diag, m=m, M=M, res=res, expo=expo, filt=filt, sigma=sigma)\n",
        "             for diag in diags]\n",
        "    return np.mean(output, axis=0)\n"
      ],
      "execution_count": null,
      "outputs": []
    },
    {
      "cell_type": "code",
      "metadata": {
        "id": "u6NKxz7RORvz"
      },
      "source": [
        "def plot3d(X, X_noise):\n",
        "    from mpl_toolkits.mplot3d import Axes3D\n",
        "    fig = plt.figure()\n",
        "    ax = fig.add_subplot(111, projection='3d')\n",
        "    ax.scatter(X[:,0], X[:,1], X[:,2], marker='o', color='blue')\n",
        "    ax.scatter(X_noise[:,0], X_noise[:,1], X_noise[:,2], marker='x', color='red')\n",
        "\n",
        "def plot2d(X, X_noise):\n",
        "    fig = plt.figure()\n",
        "    ax = fig.add_subplot(111)\n",
        "    ax.scatter(X[:,0], X[:,1], marker='x', color='blue')\n",
        "    ax.scatter(X_noise[:,0], X_noise[:,1], marker='x', color='red')\n",
        "    ax.set_aspect(\"equal\")\n",
        "\n",
        "\n",
        "def plot_object(X, X_noise):\n",
        "    if X.ndim == 2:\n",
        "        plot2d(X, X_noise)\n",
        "    elif X.ndim == 3:\n",
        "        plot3d(X, X_noise)\n",
        "    else:\n",
        "        print(\"Unknown number of dimension. Input should be a 2D or a 3D point cloud.\")"
      ],
      "execution_count": null,
      "outputs": []
    },
    {
      "cell_type": "code",
      "metadata": {
        "id": "LH3BaethORv0"
      },
      "source": [
        "def plot_hist(h, ax=None):\n",
        "    if ax is None:\n",
        "        fig = plt.figure()\n",
        "        ax = fig.add_subplot(111)\n",
        "    ax.imshow(h, cmap='hot_r', interpolation='bilinear')\n",
        "    L = h.shape[0]\n",
        "    ax.set_xticks([])\n",
        "    ax.set_yticks([])\n",
        "    ax.set_xlabel(\"Births\", fontsize=18)\n",
        "    ax.set_ylabel(\"Deaths\", fontsize=18)\n",
        "    ax.add_patch(Polygon([[L,-1], [L,L], [-1,L]], fill=True, color='lightgrey'))\n",
        "    ax.set_title(\"Expected PD\", fontsize=24)\n",
        "\n",
        "def plot_dgm(dgm_true, dgm_tot, m, M, ax=None):\n",
        "    if ax is None:\n",
        "        fig = plt.figure()\n",
        "        ax = fig.add_subplot(111)\n",
        "    x, y = dgm_true[:,0], dgm_true[:,1]\n",
        "    ax.scatter(x, y, marker='o', color='blue', label='true dgm')\n",
        "    ax.scatter(dgm_tot[:,0], dgm_tot[:,1], marker='x', color='red', label='total dgm')\n",
        "    ax.set_xlim(m,M)\n",
        "    ax.set_ylim(m,M)\n",
        "    ax.add_patch(Polygon([[m, m], [M, m], [M, M]], fill=True, color='lightgrey'))\n",
        "    ax.set_aspect(\"equal\")\n",
        "    ax.set_xlabel(\"Births\", fontsize=18)\n",
        "    ax.set_ylabel(\"Deaths\", fontsize=18)\n",
        "\n",
        "    ax.legend()\n",
        "    ax.set_title(\"Diagrams\", fontsize=24)"
      ],
      "execution_count": null,
      "outputs": []
    },
    {
      "cell_type": "markdown",
      "metadata": {
        "id": "ltRSMe_nORv0"
      },
      "source": [
        "### Numerical Computation"
      ]
    },
    {
      "cell_type": "code",
      "metadata": {
        "id": "7aAI2XhpORv0",
        "colab": {
          "base_uri": "https://localhost:8080/"
        },
        "outputId": "21824e1e-5a2a-4148-9c4c-16b0209960a6"
      },
      "source": [
        "nb_tot = 2000\n",
        "prop_noise = 0.007\n",
        "nb_points = int((1 - prop_noise) * nb_tot)\n",
        "nb_noise = nb_tot - nb_points\n",
        "\n",
        "print(\"Number of point on the shape:\", nb_points)\n",
        "print(\"Number of points corresponding to noise:\", nb_noise)\n",
        "print(\"Proportion of noise:\", prop_noise)\n",
        "print(\"Total number of points:\", nb_tot)"
      ],
      "execution_count": null,
      "outputs": [
        {
          "output_type": "stream",
          "text": [
            "Number of point on the shape: 1986\n",
            "Number of points corresponding to noise: 14\n",
            "Proportion of noise: 0.007\n",
            "Total number of points: 2000\n"
          ],
          "name": "stdout"
        }
      ]
    },
    {
      "cell_type": "code",
      "metadata": {
        "id": "5Hs33seKORv2"
      },
      "source": [
        "#X = sample_torus(nb_points, r1 = 3, r2 = 1)\n",
        "X = sample_circle(nb_points)\n",
        "#X = sample_hypercube(nb_points)\n",
        "#X= sample_hypersphere(nb_points)\n",
        "X_noise = sample_noise(nb_noise,\n",
        "                       ndim = X.shape[1],\n",
        "                       scale = np.std(X),\n",
        "                       type=\"uniform\")"
      ],
      "execution_count": null,
      "outputs": []
    },
    {
      "cell_type": "code",
      "metadata": {
        "id": "Ni_mP2rnORv2"
      },
      "source": [
        "X_tot = add_noise(X_noise, X)"
      ],
      "execution_count": null,
      "outputs": []
    },
    {
      "cell_type": "code",
      "metadata": {
        "id": "4aIxvoRhORv2",
        "colab": {
          "base_uri": "https://localhost:8080/",
          "height": 264
        },
        "outputId": "719f5b86-108c-462c-9983-3a7bd3047d42"
      },
      "source": [
        "plot_object(X, X_noise)"
      ],
      "execution_count": null,
      "outputs": [
        {
          "output_type": "display_data",
          "data": {
            "image/png": "[encoded data removed]",
            "text/plain": [
              "<Figure size 432x288 with 1 Axes>"
            ]
          },
          "metadata": {
            "tags": [],
            "needs_background": "light"
          }
        }
      ]
    },
    {
      "cell_type": "markdown",
      "metadata": {
        "id": "KZQ2k8sCF68V"
      },
      "source": [
        "For the following computation:\n",
        "\n",
        "Gudhi runs out of memory for 2000 points.\n",
        "\n",
        "Ripser.py runs in 4 minutes 40 seconds.\n",
        "\n",
        "Ripser++ runs in 2 minutes.\n",
        "\n"
      ]
    },
    {
      "cell_type": "code",
      "metadata": {
        "id": "hXiOKla2O34Z",
        "colab": {
          "base_uri": "https://localhost:8080/"
        },
        "outputId": "77e42a33-1d56-402c-e315-f9bba1d8c0a0"
      },
      "source": [
        "import time\n",
        "start= time.time()\n",
        "dgm_tot= ripscomplex(X_tot)\n",
        "dgm_true= ripscomplex(X)\n",
        "end= time.time()\n",
        "print(\"rips computatation time: \",end-start)"
      ],
      "execution_count": null,
      "outputs": [
        {
          "output_type": "stream",
          "text": [
            "rips computatation time:  123.5130820274353\n"
          ],
          "name": "stdout"
        }
      ]
    },
    {
      "cell_type": "code",
      "metadata": {
        "id": "qdiNrVYxORv3"
      },
      "source": [
        "nb_points_samples =100\n",
        "nb_repeat = 5000"
      ],
      "execution_count": null,
      "outputs": []
    },
    {
      "cell_type": "code",
      "metadata": {
        "id": "4sTTYRFK0Lgr"
      },
      "source": [
        "# Resolution parameters\n",
        "m=-0.1\n",
        "M=2"
      ],
      "execution_count": null,
      "outputs": []
    },
    {
      "cell_type": "markdown",
      "metadata": {
        "id": "hs0pwUjiNMml"
      },
      "source": [
        "ripser: 5000 iterations for about 2 minutes\n",
        "\n",
        "ripser++: 5000 iterations for about 1 minute"
      ]
    },
    {
      "cell_type": "code",
      "metadata": {
        "id": "RAkkXyqMORv3",
        "colab": {
          "base_uri": "https://localhost:8080/"
        },
        "outputId": "90660f4b-e44d-42d3-cadd-f49c5cdbe292"
      },
      "source": [
        "start= time.time()\n",
        "diags = expected_dgm(X_tot, nb_points_samples, nb_repeat)\n",
        "h = tohist(diags, m=m, M=M)\n",
        "end= time.time()\n",
        "print(\"expected diagram estimator time\", end-start,\"seconds\")"
      ],
      "execution_count": null,
      "outputs": [
        {
          "output_type": "stream",
          "text": [
            "\r  0%|          | 0/5000 [00:00<?, ?it/s]"
          ],
          "name": "stderr"
        },
        {
          "output_type": "stream",
          "text": [
            "\u001b[2K\u001b[1G"
          ],
          "name": "stdout"
        },
        {
          "output_type": "stream",
          "text": [
            "  2%|▏         | 105/5000 [00:02<02:16, 35.98it/s]"
          ],
          "name": "stderr"
        },
        {
          "output_type": "stream",
          "text": [
            "\u001b[2K\u001b[1G"
          ],
          "name": "stdout"
        },
        {
          "output_type": "stream",
          "text": [
            "  4%|▍         | 208/5000 [00:05<02:10, 36.63it/s]"
          ],
          "name": "stderr"
        },
        {
          "output_type": "stream",
          "text": [
            "\u001b[2K\u001b[1G"
          ],
          "name": "stdout"
        },
        {
          "output_type": "stream",
          "text": [
            "  6%|▌         | 307/5000 [00:07<02:02, 38.42it/s]"
          ],
          "name": "stderr"
        },
        {
          "output_type": "stream",
          "text": [
            "\u001b[2K\u001b[1G"
          ],
          "name": "stdout"
        },
        {
          "output_type": "stream",
          "text": [
            "  8%|▊         | 406/5000 [00:10<02:12, 34.72it/s]"
          ],
          "name": "stderr"
        },
        {
          "output_type": "stream",
          "text": [
            "\u001b[2K\u001b[1G"
          ],
          "name": "stdout"
        },
        {
          "output_type": "stream",
          "text": [
            " 10%|█         | 504/5000 [00:13<01:43, 43.51it/s]"
          ],
          "name": "stderr"
        },
        {
          "output_type": "stream",
          "text": [
            "\u001b[2K\u001b[1G"
          ],
          "name": "stdout"
        },
        {
          "output_type": "stream",
          "text": [
            " 12%|█▏        | 603/5000 [00:15<01:35, 46.25it/s]"
          ],
          "name": "stderr"
        },
        {
          "output_type": "stream",
          "text": [
            "\u001b[2K\u001b[1G"
          ],
          "name": "stdout"
        },
        {
          "output_type": "stream",
          "text": [
            " 14%|█▍        | 706/5000 [00:18<01:46, 40.39it/s]"
          ],
          "name": "stderr"
        },
        {
          "output_type": "stream",
          "text": [
            "\u001b[2K\u001b[1G"
          ],
          "name": "stdout"
        },
        {
          "output_type": "stream",
          "text": [
            " 16%|█▌        | 810/5000 [00:21<01:53, 37.02it/s]"
          ],
          "name": "stderr"
        },
        {
          "output_type": "stream",
          "text": [
            "\u001b[2K\u001b[1G"
          ],
          "name": "stdout"
        },
        {
          "output_type": "stream",
          "text": [
            " 18%|█▊        | 907/5000 [00:24<01:53, 36.21it/s]"
          ],
          "name": "stderr"
        },
        {
          "output_type": "stream",
          "text": [
            "\u001b[2K\u001b[1G"
          ],
          "name": "stdout"
        },
        {
          "output_type": "stream",
          "text": [
            " 20%|██        | 1006/5000 [00:27<01:54, 34.84it/s]"
          ],
          "name": "stderr"
        },
        {
          "output_type": "stream",
          "text": [
            "\u001b[2K\u001b[1G"
          ],
          "name": "stdout"
        },
        {
          "output_type": "stream",
          "text": [
            " 22%|██▏       | 1112/5000 [00:30<01:46, 36.37it/s]"
          ],
          "name": "stderr"
        },
        {
          "output_type": "stream",
          "text": [
            "\u001b[2K\u001b[1G"
          ],
          "name": "stdout"
        },
        {
          "output_type": "stream",
          "text": [
            " 24%|██▍       | 1207/5000 [00:33<01:50, 34.47it/s]"
          ],
          "name": "stderr"
        },
        {
          "output_type": "stream",
          "text": [
            "\u001b[2K\u001b[1G"
          ],
          "name": "stdout"
        },
        {
          "output_type": "stream",
          "text": [
            " 26%|██▌       | 1305/5000 [00:35<01:50, 33.37it/s]"
          ],
          "name": "stderr"
        },
        {
          "output_type": "stream",
          "text": [
            "\u001b[2K\u001b[1G"
          ],
          "name": "stdout"
        },
        {
          "output_type": "stream",
          "text": [
            " 28%|██▊       | 1406/5000 [00:37<01:15, 47.44it/s]"
          ],
          "name": "stderr"
        },
        {
          "output_type": "stream",
          "text": [
            "\u001b[2K\u001b[1G"
          ],
          "name": "stdout"
        },
        {
          "output_type": "stream",
          "text": [
            " 30%|███       | 1508/5000 [00:40<01:26, 40.24it/s]"
          ],
          "name": "stderr"
        },
        {
          "output_type": "stream",
          "text": [
            "\u001b[2K\u001b[1G"
          ],
          "name": "stdout"
        },
        {
          "output_type": "stream",
          "text": [
            " 32%|███▏      | 1606/5000 [00:43<01:30, 37.33it/s]"
          ],
          "name": "stderr"
        },
        {
          "output_type": "stream",
          "text": [
            "\u001b[2K\u001b[1G"
          ],
          "name": "stdout"
        },
        {
          "output_type": "stream",
          "text": [
            " 34%|███▍      | 1713/5000 [00:45<01:02, 52.31it/s]"
          ],
          "name": "stderr"
        },
        {
          "output_type": "stream",
          "text": [
            "\u001b[2K\u001b[1G"
          ],
          "name": "stdout"
        },
        {
          "output_type": "stream",
          "text": [
            " 36%|███▌      | 1806/5000 [00:48<01:30, 35.12it/s]"
          ],
          "name": "stderr"
        },
        {
          "output_type": "stream",
          "text": [
            "\u001b[2K\u001b[1G"
          ],
          "name": "stdout"
        },
        {
          "output_type": "stream",
          "text": [
            " 38%|███▊      | 1906/5000 [00:50<01:09, 44.62it/s]"
          ],
          "name": "stderr"
        },
        {
          "output_type": "stream",
          "text": [
            "\u001b[2K\u001b[1G"
          ],
          "name": "stdout"
        },
        {
          "output_type": "stream",
          "text": [
            " 40%|████      | 2007/5000 [00:53<01:16, 38.88it/s]"
          ],
          "name": "stderr"
        },
        {
          "output_type": "stream",
          "text": [
            "\u001b[2K\u001b[1G"
          ],
          "name": "stdout"
        },
        {
          "output_type": "stream",
          "text": [
            " 42%|████▏     | 2105/5000 [00:55<01:15, 38.22it/s]"
          ],
          "name": "stderr"
        },
        {
          "output_type": "stream",
          "text": [
            "\u001b[2K\u001b[1G"
          ],
          "name": "stdout"
        },
        {
          "output_type": "stream",
          "text": [
            " 44%|████▍     | 2206/5000 [00:58<01:24, 33.23it/s]"
          ],
          "name": "stderr"
        },
        {
          "output_type": "stream",
          "text": [
            "\u001b[2K\u001b[1G"
          ],
          "name": "stdout"
        },
        {
          "output_type": "stream",
          "text": [
            " 46%|████▋     | 2321/5000 [01:01<00:34, 78.25it/s]"
          ],
          "name": "stderr"
        },
        {
          "output_type": "stream",
          "text": [
            "\u001b[2K\u001b[1G"
          ],
          "name": "stdout"
        },
        {
          "output_type": "stream",
          "text": [
            " 48%|████▊     | 2421/5000 [01:02<00:24, 104.43it/s]"
          ],
          "name": "stderr"
        },
        {
          "output_type": "stream",
          "text": [
            "\u001b[2K\u001b[1G"
          ],
          "name": "stdout"
        },
        {
          "output_type": "stream",
          "text": [
            " 50%|█████     | 2513/5000 [01:03<00:29, 84.91it/s]"
          ],
          "name": "stderr"
        },
        {
          "output_type": "stream",
          "text": [
            "\u001b[2K\u001b[1G"
          ],
          "name": "stdout"
        },
        {
          "output_type": "stream",
          "text": [
            " 52%|█████▏    | 2614/5000 [01:04<00:24, 98.88it/s] "
          ],
          "name": "stderr"
        },
        {
          "output_type": "stream",
          "text": [
            "\u001b[2K\u001b[1G"
          ],
          "name": "stdout"
        },
        {
          "output_type": "stream",
          "text": [
            " 54%|█████▍    | 2713/5000 [01:05<00:21, 105.01it/s]"
          ],
          "name": "stderr"
        },
        {
          "output_type": "stream",
          "text": [
            "\u001b[2K\u001b[1G"
          ],
          "name": "stdout"
        },
        {
          "output_type": "stream",
          "text": [
            " 56%|█████▋    | 2814/5000 [01:06<00:21, 100.77it/s]"
          ],
          "name": "stderr"
        },
        {
          "output_type": "stream",
          "text": [
            "\u001b[2K\u001b[1G"
          ],
          "name": "stdout"
        },
        {
          "output_type": "stream",
          "text": [
            " 58%|█████▊    | 2917/5000 [01:07<00:19, 105.36it/s]"
          ],
          "name": "stderr"
        },
        {
          "output_type": "stream",
          "text": [
            "\u001b[2K\u001b[1G"
          ],
          "name": "stdout"
        },
        {
          "output_type": "stream",
          "text": [
            " 60%|██████    | 3017/5000 [01:08<00:19, 100.48it/s]"
          ],
          "name": "stderr"
        },
        {
          "output_type": "stream",
          "text": [
            "\u001b[2K\u001b[1G"
          ],
          "name": "stdout"
        },
        {
          "output_type": "stream",
          "text": [
            " 62%|██████▏   | 3116/5000 [01:09<00:18, 100.48it/s]"
          ],
          "name": "stderr"
        },
        {
          "output_type": "stream",
          "text": [
            "\u001b[2K\u001b[1G"
          ],
          "name": "stdout"
        },
        {
          "output_type": "stream",
          "text": [
            " 64%|██████▍   | 3215/5000 [01:09<00:17, 100.77it/s]"
          ],
          "name": "stderr"
        },
        {
          "output_type": "stream",
          "text": [
            "\u001b[2K\u001b[1G"
          ],
          "name": "stdout"
        },
        {
          "output_type": "stream",
          "text": [
            " 66%|██████▋   | 3323/5000 [01:11<00:16, 103.53it/s]"
          ],
          "name": "stderr"
        },
        {
          "output_type": "stream",
          "text": [
            "\u001b[2K\u001b[1G"
          ],
          "name": "stdout"
        },
        {
          "output_type": "stream",
          "text": [
            " 68%|██████▊   | 3412/5000 [01:11<00:15, 100.03it/s]"
          ],
          "name": "stderr"
        },
        {
          "output_type": "stream",
          "text": [
            "\u001b[2K\u001b[1G"
          ],
          "name": "stdout"
        },
        {
          "output_type": "stream",
          "text": [
            " 70%|███████   | 3521/5000 [01:13<00:14, 103.92it/s]"
          ],
          "name": "stderr"
        },
        {
          "output_type": "stream",
          "text": [
            "\u001b[2K\u001b[1G"
          ],
          "name": "stdout"
        },
        {
          "output_type": "stream",
          "text": [
            " 72%|███████▏  | 3621/5000 [01:13<00:12, 107.01it/s]"
          ],
          "name": "stderr"
        },
        {
          "output_type": "stream",
          "text": [
            "\u001b[2K\u001b[1G"
          ],
          "name": "stdout"
        },
        {
          "output_type": "stream",
          "text": [
            " 74%|███████▍  | 3722/5000 [01:14<00:11, 106.59it/s]"
          ],
          "name": "stderr"
        },
        {
          "output_type": "stream",
          "text": [
            "\u001b[2K\u001b[1G"
          ],
          "name": "stdout"
        },
        {
          "output_type": "stream",
          "text": [
            " 76%|███████▋  | 3817/5000 [01:15<00:12, 98.21it/s]"
          ],
          "name": "stderr"
        },
        {
          "output_type": "stream",
          "text": [
            "\u001b[2K\u001b[1G"
          ],
          "name": "stdout"
        },
        {
          "output_type": "stream",
          "text": [
            " 78%|███████▊  | 3917/5000 [01:16<00:10, 101.71it/s]"
          ],
          "name": "stderr"
        },
        {
          "output_type": "stream",
          "text": [
            "\u001b[2K\u001b[1G"
          ],
          "name": "stdout"
        },
        {
          "output_type": "stream",
          "text": [
            " 80%|████████  | 4012/5000 [01:17<00:09, 102.75it/s]"
          ],
          "name": "stderr"
        },
        {
          "output_type": "stream",
          "text": [
            "\u001b[2K\u001b[1G"
          ],
          "name": "stdout"
        },
        {
          "output_type": "stream",
          "text": [
            " 82%|████████▏ | 4113/5000 [01:18<00:08, 101.62it/s]"
          ],
          "name": "stderr"
        },
        {
          "output_type": "stream",
          "text": [
            "\u001b[2K\u001b[1G"
          ],
          "name": "stdout"
        },
        {
          "output_type": "stream",
          "text": [
            " 84%|████████▍ | 4219/5000 [01:19<00:08, 93.87it/s]"
          ],
          "name": "stderr"
        },
        {
          "output_type": "stream",
          "text": [
            "\u001b[2K\u001b[1G"
          ],
          "name": "stdout"
        },
        {
          "output_type": "stream",
          "text": [
            " 86%|████████▋ | 4317/5000 [01:21<00:07, 90.55it/s]"
          ],
          "name": "stderr"
        },
        {
          "output_type": "stream",
          "text": [
            "\u001b[2K\u001b[1G"
          ],
          "name": "stdout"
        },
        {
          "output_type": "stream",
          "text": [
            " 88%|████████▊ | 4422/5000 [01:22<00:05, 102.49it/s]"
          ],
          "name": "stderr"
        },
        {
          "output_type": "stream",
          "text": [
            "\u001b[2K\u001b[1G"
          ],
          "name": "stdout"
        },
        {
          "output_type": "stream",
          "text": [
            " 90%|█████████ | 4508/5000 [01:23<00:11, 43.60it/s]"
          ],
          "name": "stderr"
        },
        {
          "output_type": "stream",
          "text": [
            "\u001b[2K\u001b[1G"
          ],
          "name": "stdout"
        },
        {
          "output_type": "stream",
          "text": [
            " 92%|█████████▏| 4609/5000 [01:26<00:09, 39.26it/s]"
          ],
          "name": "stderr"
        },
        {
          "output_type": "stream",
          "text": [
            "\u001b[2K\u001b[1G"
          ],
          "name": "stdout"
        },
        {
          "output_type": "stream",
          "text": [
            " 94%|█████████▍| 4706/5000 [01:29<00:07, 37.21it/s]"
          ],
          "name": "stderr"
        },
        {
          "output_type": "stream",
          "text": [
            "\u001b[2K\u001b[1G"
          ],
          "name": "stdout"
        },
        {
          "output_type": "stream",
          "text": [
            " 96%|█████████▌| 4805/5000 [01:31<00:05, 36.05it/s]"
          ],
          "name": "stderr"
        },
        {
          "output_type": "stream",
          "text": [
            "\u001b[2K\u001b[1G"
          ],
          "name": "stdout"
        },
        {
          "output_type": "stream",
          "text": [
            " 98%|█████████▊| 4906/5000 [01:34<00:02, 34.86it/s]"
          ],
          "name": "stderr"
        },
        {
          "output_type": "stream",
          "text": [
            "\u001b[2K\u001b[1G"
          ],
          "name": "stdout"
        },
        {
          "output_type": "stream",
          "text": [
            "100%|██████████| 5000/5000 [01:37<00:00, 51.49it/s]\n"
          ],
          "name": "stderr"
        },
        {
          "output_type": "stream",
          "text": [
            "expected diagram estimator time 98.16397857666016 seconds\n"
          ],
          "name": "stdout"
        }
      ]
    },
    {
      "cell_type": "code",
      "metadata": {
        "id": "LZb7apSzORv4",
        "colab": {
          "base_uri": "https://localhost:8080/",
          "height": 394
        },
        "outputId": "e9f11e21-b0c7-4e03-981d-419113efa44e"
      },
      "source": [
        "fig = plt.figure(figsize=(12,6))\n",
        "ax1 = fig.add_subplot(121)\n",
        "ax2 = fig.add_subplot(122)\n",
        "plot_dgm(dgm_true, dgm_tot, m = m, M=M, ax=ax1)\n",
        "plot_hist(h, ax=ax2)"
      ],
      "execution_count": null,
      "outputs": [
        {
          "output_type": "display_data",
          "data": {
            "image/png": "[encoded data removed]",
            "text/plain": [
              "<Figure size 864x432 with 2 Axes>"
            ]
          },
          "metadata": {
            "tags": [],
            "needs_background": "light"
          }
        }
      ]
    },
    {
      "cell_type": "markdown",
      "metadata": {
        "id": "iquivxIDORv4"
      },
      "source": [
        "As one can see, the expected persistence diagram is much more similar to the true diagram !"
      ]
    }
  ]
}